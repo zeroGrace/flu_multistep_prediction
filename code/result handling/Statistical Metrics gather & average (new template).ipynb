{
 "cells": [
  {
   "cell_type": "code",
   "execution_count": 1,
   "metadata": {},
   "outputs": [],
   "source": [
    "import pandas as pd\n",
    "import numpy as np\n",
    "import os"
   ]
  },
  {
   "cell_type": "code",
   "execution_count": 2,
   "metadata": {},
   "outputs": [],
   "source": [
    "series_list = [\"Nori\", \"Sori\"]\n",
    "model_list = ['SVR_Iter', 'SVR_Dir', 'SVR_MIMO', 'MLP_Iter', 'MLP_Dir','MLP_MIMO']\n",
    "\n",
    "open_path = \"C:/D/HUST/research_flu_forecast/experiment/result/New/\"\n",
    "save_path = \"C:/D/HUST/research_flu_forecast/experiment/result/New/Statistical Metrics/\"\n",
    "\n",
    "Model_Num = 6\n",
    "RANKS = 20"
   ]
  },
  {
   "cell_type": "code",
   "execution_count": 3,
   "metadata": {},
   "outputs": [],
   "source": [
    "#total_Metric_gather(for statistic analysis): 2 series × 2 metric\n",
    "save_folder1 = \"total_metric_gather\"  \n",
    "if os.path.exists(save_path + save_folder1) == False:\n",
    "    os.makedirs(save_path + save_folder1)\n",
    "\n",
    "for series_name in series_list:\n",
    "    for metric_name in ['MAPE','RMSE']:\n",
    "        wr_1 = pd.ExcelWriter(save_path + save_folder1 + \"/\" + series_name + \"_total_\" + metric_name + \"_gather.xlsx\")\n",
    "        for H in range(2,11):\n",
    "            index_rank = ['rank' + str(i+1) for i in range(RANKS)]\n",
    "            column_model = model_list            \n",
    "            gather_table = np.zeros((RANKS,Model_Num))\n",
    "            \n",
    "            for num, model_name in enumerate(model_list):\n",
    "                metric_file = open_path + series_name + \"/\" + model_name + \"/aggregate_metric/Total_Metrics_\" + series_name + \"_\"  + model_name + \".xlsx\"\n",
    "                metric_table = pd.read_excel(metric_file, sheet_name = \"H\"+str(H))\n",
    "                metric = metric_table[metric_name]\n",
    "                gather_table[:,num] = np.array(metric)\n",
    "                \n",
    "            df1 = pd.DataFrame(gather_table,index = index_rank ,columns = column_model)\n",
    "            df1.to_excel(wr_1,'H'+str(H))\n",
    "        wr_1.save()"
   ]
  },
  {
   "cell_type": "code",
   "execution_count": 4,
   "metadata": {},
   "outputs": [],
   "source": [
    "#step_Metric_gather(for statistic analysis): 2 series × 2 metric × 9 horizons\n",
    "save_folder2 = \"step_metric_gather\"\n",
    "if os.path.exists(save_path + save_folder2) == False:\n",
    "    os.makedirs(save_path + save_folder2)\n",
    "    \n",
    "for series_name in series_list:\n",
    "    for metric_name in ['MAPE','RMSE']:\n",
    "        for H in range(2,11):\n",
    "            wr_2 = pd.ExcelWriter(save_path + save_folder2 + \"/\" + series_name + \"_step_\" + metric_name + \"_H\" + str(H) +\"_gather.xlsx\")\n",
    "            \n",
    "            for step in range(1, H+1):\n",
    "                index_rank = ['rank' + str(i+1) for i in range(RANKS)]\n",
    "                column_model = model_list            \n",
    "                gather_table = np.zeros((RANKS,Model_Num))\n",
    "            \n",
    "                for num, model_name in enumerate(model_list):\n",
    "                    metric_file = open_path + series_name + \"/\" + model_name + \"/aggregate_metric/\" + metric_name + \"_Step_\" + series_name + \"_\"  + model_name + \".xlsx\"\n",
    "                    metric_table = pd.read_excel(metric_file, sheet_name = \"H\" + str(H))\n",
    "                    metric = metric_table[\"step\"+str(step)]\n",
    "                    gather_table[:,num] = np.array(metric)\n",
    "                \n",
    "                df2 = pd.DataFrame(gather_table,index = index_rank ,columns = column_model)\n",
    "                df2.to_excel(wr_2,\"step\" + str(step))\n",
    "            wr_2.save()"
   ]
  },
  {
   "cell_type": "code",
   "execution_count": 12,
   "metadata": {},
   "outputs": [],
   "source": [
    "#total_Metrics_averaged\n",
    "open_path = \"C:/D/HUST/research_flu_forecast/experiment/result/New/Statistical Metrics/total_metric_gather/\"\n",
    "\n",
    "#多级索引\n",
    "dual_ind_list = [['MAPE','RMSE'],model_list]\n",
    "metric_ind = pd.MultiIndex.from_product(dual_ind_list, names = ['Metric','Model'])\n",
    "col= [\"H\"+str(h) for h in range(2,11)]\n",
    "    \n",
    "wr_3 = pd.ExcelWriter(save_path + \"/total_statistical_metrics_averaged.xlsx\")\n",
    "for series_name in series_list:\n",
    "    gather_table = np.zeros((Model_Num*2,9))    \n",
    "    for n,metric_name in enumerate(['MAPE','RMSE']):\n",
    "        for H in range(2,11):\n",
    "            metric_file = open_path + series_name + \"_total_\"  + metric_name  + \"_gather\" + \".xlsx\"\n",
    "            metric_table = pd.read_excel(metric_file, sheet_name = \"H\" + str(H),index_col = 0)\n",
    "            metric = np.array(metric_table).T\n",
    "            gather_table[(n*6):(n+1)*6,H-2] = np.mean(metric,axis = 1)\n",
    "            \n",
    "    df3 = pd.DataFrame(gather_table,index = metric_ind ,columns = col)\n",
    "    df3.to_excel(wr_3,series_name)\n",
    "wr_3.save()"
   ]
  },
  {
   "cell_type": "code",
   "execution_count": 16,
   "metadata": {},
   "outputs": [],
   "source": [
    "#step_Metrics_averaged\n",
    "open_path = \"C:/D/HUST/research_flu_forecast/experiment/result/New/Statistical Metrics/step_metric_gather/\"\n",
    "\n",
    "#多级索引\n",
    "dual_ind_list = [['MAPE','RMSE'],model_list]\n",
    "metric_ind = pd.MultiIndex.from_product(dual_ind_list, names = ['Metric','Model'])\n",
    "col_list = []\n",
    "for H in range(2,11):\n",
    "    for h in range(1,H+1):\n",
    "        col_list.append(['H'+str(H),'step'+str(h)])\n",
    "col_df = pd.DataFrame(col_list)\n",
    "col = pd.MultiIndex.from_frame(col_df,names = ['Horizon','Step'])    \n",
    "\n",
    "wr_4 = pd.ExcelWriter(save_path + \"/step_statistical_metrics_averaged.xlsx\")\n",
    "for series_name in series_list:\n",
    "    gather_table = np.zeros((Model_Num*2,54))\n",
    "    \n",
    "    for n,metric_name in enumerate(['MAPE','RMSE']):    \n",
    "        \n",
    "        H_position = 0\n",
    "        for H in range(2,11):\n",
    "            for step in range(H):    \n",
    "                metric_file = open_path + series_name + \"_step_\"  + metric_name  + \"_H\" + str(H) + \"_gather\" + \".xlsx\"\n",
    "                metric_table = pd.read_excel(metric_file, sheet_name = \"step\" + str(step+1),index_col=0)\n",
    "                metric = np.array(metric_table).T\n",
    "                gather_table[(n*6):(n+1)*6, H_position + step] = np.mean(metric,axis = 1)\n",
    "            H_position += H\n",
    "            \n",
    "    df4 = pd.DataFrame(gather_table,index = metric_ind ,columns = col)\n",
    "    df4.to_excel(wr_4, series_name)\n",
    "wr_4.save()"
   ]
  }
 ],
 "metadata": {
  "kernelspec": {
   "display_name": "Python 3",
   "language": "python",
   "name": "python3"
  },
  "language_info": {
   "codemirror_mode": {
    "name": "ipython",
    "version": 3
   },
   "file_extension": ".py",
   "mimetype": "text/x-python",
   "name": "python",
   "nbconvert_exporter": "python",
   "pygments_lexer": "ipython3",
   "version": "3.7.1"
  },
  "toc": {
   "base_numbering": 1,
   "nav_menu": {},
   "number_sections": true,
   "sideBar": true,
   "skip_h1_title": false,
   "title_cell": "Table of Contents",
   "title_sidebar": "Contents",
   "toc_cell": false,
   "toc_position": {},
   "toc_section_display": true,
   "toc_window_display": false
  },
  "varInspector": {
   "cols": {
    "lenName": 16,
    "lenType": 16,
    "lenVar": 40
   },
   "kernels_config": {
    "python": {
     "delete_cmd_postfix": "",
     "delete_cmd_prefix": "del ",
     "library": "var_list.py",
     "varRefreshCmd": "print(var_dic_list())"
    },
    "r": {
     "delete_cmd_postfix": ") ",
     "delete_cmd_prefix": "rm(",
     "library": "var_list.r",
     "varRefreshCmd": "cat(var_dic_list()) "
    }
   },
   "types_to_exclude": [
    "module",
    "function",
    "builtin_function_or_method",
    "instance",
    "_Feature"
   ],
   "window_display": false
  }
 },
 "nbformat": 4,
 "nbformat_minor": 2
}
