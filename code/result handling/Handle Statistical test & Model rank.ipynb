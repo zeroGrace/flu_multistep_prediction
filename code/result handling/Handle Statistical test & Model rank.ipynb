{
 "cells": [
  {
   "cell_type": "code",
   "execution_count": 1,
   "metadata": {},
   "outputs": [],
   "source": [
    "import numpy as np\n",
    "import pandas as pd\n",
    "import os"
   ]
  },
  {
   "cell_type": "code",
   "execution_count": 91,
   "metadata": {},
   "outputs": [],
   "source": [
    "series_list = [\"Nori\", \"Sori\"]\n",
    "H_list = [\"H\"+str(h) for h in range(2,11)]\n",
    "path = \"C:/D/HUST/research_flu_forecast/experiment/result/New/\"\n",
    "save_path = path + \"Model Compare/csv_files/\"\n",
    "if os.path.exists(save_path) == False:\n",
    "    os.makedirs(save_path)\n",
    "\n",
    "dual_ind_list = [H_list, [\"Rank\", \"Sig\"]]\n",
    "ind = pd.MultiIndex.from_product(dual_ind_list, names=[\"Horizon\", \"item\"])\n",
    "col = [\"Rank\"+str(r+1) for r in range(6)]"
   ]
  },
  {
   "cell_type": "markdown",
   "metadata": {},
   "source": [
    "## Statistical Metrics"
   ]
  },
  {
   "cell_type": "code",
   "execution_count": 92,
   "metadata": {},
   "outputs": [],
   "source": [
    "metrics_list = [\"MAPE\",\"RMSE\"]\n",
    "\n",
    "for series in series_list:\n",
    "    metric_file = pd.read_excel(path + \"Statistical Metrics/total_statistical_metrics_averaged.xlsx\",sheet_name = series,index_col = [0,1])\n",
    "    \n",
    "    for metric in metrics_list:\n",
    "        mr_l = []\n",
    "        for h_n,H in enumerate(H_list):\n",
    "            ms = metric_file.loc[metric, H].sort_values()\n",
    "            ms_l = ms.index.tolist()\n",
    "            \n",
    "            st_file = pd.read_excel(path + \"Statistical test/\" + series + \"_total_\" + metric + \"_stat_Nemenyi.xlsx\",sheet_name = H,index_col = 0)\n",
    "            st_l = []\n",
    "            for m_n,model in enumerate(ms_l):    \n",
    "                sig_str = \"\"\n",
    "                for model_comp in ms_l[0:m_n]:\n",
    "                    if (model_comp == 'SVR_Iter') or (model == 'MLP_MIMO') or (np.isnan(st_file[model][model_comp])):\n",
    "                        pvalue = st_file[model_comp][model]\n",
    "                    else:\n",
    "                        pvalue = st_file[model][model_comp]\n",
    "\n",
    "                    if pvalue < 0.05:\n",
    "                        sig_str += (\"*>\" + model_comp + '\\n')\n",
    "                        \n",
    "                st_l.append(sig_str[:-1])\n",
    "            \n",
    "            mr_l += [ms_l,st_l]\n",
    "        mr_df = pd.DataFrame(mr_l, index= ind, columns= col)\n",
    "        mr_df.to_csv(save_path + series + \"_\" + metric + \"_\" + \"model_compare.csv\")"
   ]
  },
  {
   "cell_type": "markdown",
   "metadata": {},
   "source": [
    "## Outbreak Metrics"
   ]
  },
  {
   "cell_type": "code",
   "execution_count": 94,
   "metadata": {},
   "outputs": [],
   "source": [
    "metrics_list = [\"PWD\",\"Outbreak_MAE\"]\n",
    "\n",
    "for series in series_list:\n",
    "    \n",
    "    for metric in metrics_list:\n",
    "        metric_file = pd.read_excel(path + metric + \"/\" + metric + \"_total_ave.xlsx\",sheet_name = series,index_col = [0,1])\n",
    "        mr_l = []\n",
    "        \n",
    "        for h_n,H in enumerate(H_list):\n",
    "            ms = metric_file.loc[\"outbreak_ave\", H].sort_values()\n",
    "            ms_l = ms.index.tolist()\n",
    "            \n",
    "            st_file = pd.read_excel(path + \"Statistical test/\" + series + \"_total_\" + metric + \"_stat_Nemenyi.xlsx\",sheet_name = H,index_col = 0)\n",
    "            st_l = []\n",
    "            for m_n,model in enumerate(ms_l):    \n",
    "                sig_str = \"\"\n",
    "                for model_comp in ms_l[0:m_n]:\n",
    "                    if (model_comp == 'SVR_Iter') or (model == 'MLP_MIMO') or (np.isnan(st_file[model][model_comp])):\n",
    "                        pvalue = st_file[model_comp][model]\n",
    "                    else:\n",
    "                        pvalue = st_file[model][model_comp]\n",
    "\n",
    "                    if pvalue < 0.05:\n",
    "                        sig_str += (\"*>\" + model_comp + '\\n')\n",
    "                \n",
    "                st_l.append(sig_str[:-1])\n",
    "            \n",
    "            mr_l += [ms_l,st_l]\n",
    "        mr_df = pd.DataFrame(mr_l, index = ind, columns = col)\n",
    "        mr_df.to_csv(save_path + series + \"_\" + metric + \"_\" + \"model_compare.csv\")"
   ]
  },
  {
   "cell_type": "markdown",
   "metadata": {},
   "source": [
    "## tips"
   ]
  },
  {
   "cell_type": "code",
   "execution_count": 69,
   "metadata": {},
   "outputs": [
    {
     "data": {
      "text/plain": [
       "True"
      ]
     },
     "execution_count": 69,
     "metadata": {},
     "output_type": "execute_result"
    }
   ],
   "source": [
    "np.isnan(st_file['MLP_Dir']['SVR_Dir'])  #正确的判断numpy数组中空值的方法"
   ]
  },
  {
   "cell_type": "code",
   "execution_count": 13,
   "metadata": {},
   "outputs": [],
   "source": [
    "a = \"*>\" + \"SVR_Iter\" + '\\n' + \"*>\" +\"MLP_Dir\"   #'\\n'为换行符，经测试，输出到.csv时可以呈现换行格式，但输出为excel时不行。\n",
    "m = pd.Series(a)\n",
    "m.to_csv(\"./try.csv\")"
   ]
  }
 ],
 "metadata": {
  "kernelspec": {
   "display_name": "Python 3",
   "language": "python",
   "name": "python3"
  },
  "language_info": {
   "codemirror_mode": {
    "name": "ipython",
    "version": 3
   },
   "file_extension": ".py",
   "mimetype": "text/x-python",
   "name": "python",
   "nbconvert_exporter": "python",
   "pygments_lexer": "ipython3",
   "version": "3.7.1"
  },
  "toc": {
   "base_numbering": 1,
   "nav_menu": {},
   "number_sections": true,
   "sideBar": true,
   "skip_h1_title": false,
   "title_cell": "Table of Contents",
   "title_sidebar": "Contents",
   "toc_cell": false,
   "toc_position": {},
   "toc_section_display": true,
   "toc_window_display": false
  },
  "varInspector": {
   "cols": {
    "lenName": 16,
    "lenType": 16,
    "lenVar": 40
   },
   "kernels_config": {
    "python": {
     "delete_cmd_postfix": "",
     "delete_cmd_prefix": "del ",
     "library": "var_list.py",
     "varRefreshCmd": "print(var_dic_list())"
    },
    "r": {
     "delete_cmd_postfix": ") ",
     "delete_cmd_prefix": "rm(",
     "library": "var_list.r",
     "varRefreshCmd": "cat(var_dic_list()) "
    }
   },
   "types_to_exclude": [
    "module",
    "function",
    "builtin_function_or_method",
    "instance",
    "_Feature"
   ],
   "window_display": false
  }
 },
 "nbformat": 4,
 "nbformat_minor": 4
}
