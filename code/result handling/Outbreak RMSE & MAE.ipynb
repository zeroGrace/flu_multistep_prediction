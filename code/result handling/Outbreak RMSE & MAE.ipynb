{
 "cells": [
  {
   "cell_type": "code",
   "execution_count": 1,
   "metadata": {},
   "outputs": [],
   "source": [
    "import numpy as np\n",
    "import pandas as pd\n",
    "import os"
   ]
  },
  {
   "cell_type": "code",
   "execution_count": 3,
   "metadata": {},
   "outputs": [],
   "source": [
    "#cut test part of ILI series\n",
    "ili_file = pd.read_excel('C:/D/HUST/research_flu_forecast/data for coding/ILI_all.xlsx')\n",
    "test_ILI = {}\n",
    "test_ILI['Nori'] = ili_file['n_ili'].values[-187:]\n",
    "test_ILI['Sori'] = ili_file['s_ili'].values[-187:]\n",
    "test_weektag = ili_file['weektag'].values[-187:]"
   ]
  },
  {
   "cell_type": "code",
   "execution_count": 2,
   "metadata": {},
   "outputs": [],
   "source": [
    "series_list = [\"Nori\", \"Sori\"]\n",
    "model_list = ['SVR_Iter', 'SVR_Dir', 'SVR_MIMO', 'MLP_Iter', 'MLP_Dir','MLP_MIMO']\n",
    "R = 20"
   ]
  },
  {
   "cell_type": "markdown",
   "metadata": {},
   "source": [
    "## Outbreak RMSE"
   ]
  },
  {
   "cell_type": "markdown",
   "metadata": {},
   "source": [
    "### Calculate each Outbreak RMSE"
   ]
  },
  {
   "cell_type": "code",
   "execution_count": null,
   "metadata": {},
   "outputs": [],
   "source": [
    "#calculate each Outbreak RMSE\n",
    "open_path = \"C:/D/HUST/research_flu_forecast/experiment/result/New/\"\n",
    "ob_rmse_save_path = \"C:/D/HUST/research_flu_forecast/experiment/result/New/Outbreak_RMSE/\"\n",
    "\n",
    "for series_name in series_list:\n",
    "    test_series = test_ILI[series_name]\n",
    "    if os.path.exists(ob_rmse_save_path + \"/\" + series_name) == False:\n",
    "        os.makedirs(ob_rmse_save_path + \"/\" + series_name)\n",
    "    \n",
    "    for model_name in model_list:\n",
    "        for H in range(2,11):\n",
    "            ob_rmse_file_name = \"Outbreak_RMSE_\" + series_name + \"_\" + model_name + \"_y\" +str(H) + \".xlsx\"\n",
    "            wr = pd.ExcelWriter(ob_rmse_save_path + \"/\" + series_name + \"/\" + ob_rmse_file_name)\n",
    "            col = ['outbreak1','outbreak2','outbreak3','outbreak_mean']\n",
    "            ind = ['step'+str(x+1) for x in range(H)]\n",
    "            ind.append('step_mean')\n",
    "            \n",
    "            for r in range(R):\n",
    "                file_name = series_name + \"_\" + model_name + \"_y\" +str(H) + \"_rank\" + str(r+1) + \".xlsx\"\n",
    "                result_file = pd.read_excel(open_path + series_name + \"/\" + model_name + \"/\"  + file_name, sheet_name = 'y_test_pred')\n",
    "                true_len = len(test_series)\n",
    "                pred_len = result_file.shape[0]\n",
    "                \n",
    "                #各step对齐到原序列的时间点\n",
    "                t_m = np.zeros((H+1,true_len))\n",
    "                t_m[H] = test_series\n",
    "                step_list = list(range(H))\n",
    "                step_list.reverse()                    #list.reverse()没有返回值，不返回新的反序list，只是对原list的元素进行反向排序\n",
    "                for step in step_list:           \n",
    "                    t_m[step][(step+1-H)-pred_len:true_len + (step+1-H)] = result_file['step'+ str(step+1)].values\n",
    "                            \n",
    "                #三个爆发期（不包括2016-2017）的具体时间段：每年11月初-次年2月（week45-次年week8）；64-79、116-131、168-183\n",
    "                outbreaks = [t_m[:,63:79].copy(),t_m[:,115:131].copy(),t_m[:,167:183].copy()]\n",
    "                ob_rmse = np.zeros((H+1,3+1))\n",
    "                \n",
    "                for n in range(3):\n",
    "                    for step in range(H):\n",
    "                         ob_rmse[step,n] = np.sqrt(np.mean((outbreaks[n][H]-outbreaks[n][step])**2))   \n",
    "\n",
    "                #求均值\n",
    "                ob_rmse[:,3] = np.mean(ob_rmse[:,:3],axis=1)\n",
    "                ob_rmse[H,:] = np.mean(ob_rmse[:H,:],axis=0)\n",
    "                \n",
    "                ob_rmse_df = pd.DataFrame(ob_rmse,index = ind, columns = col)\n",
    "                ob_rmse_df.to_excel(wr,'rank'+str(r+1))\n",
    "            wr.save()"
   ]
  },
  {
   "cell_type": "markdown",
   "metadata": {},
   "source": [
    "### Outbreak RMSE averaged"
   ]
  },
  {
   "cell_type": "code",
   "execution_count": 6,
   "metadata": {},
   "outputs": [],
   "source": [
    "#Outbreak RMSE averaged\n",
    "#1)table(repeated experiment) averaged \n",
    "open_path = \"C:/D/HUST/research_flu_forecast/experiment/result/New/Outbreak_RMSE/\"\n",
    "save_path = \"C:/D/HUST/research_flu_forecast/experiment/result/New/Outbreak_RMSE/repeat average/\"\n",
    "for series_name in series_list:\n",
    "    for model_name in model_list:\n",
    "        save_name = \"repAve_Outbreak_RMSE_\" + series_name + \"_\" + model_name + \".xlsx\"\n",
    "        wr1 = pd.ExcelWriter(save_path + save_name)\n",
    "        for H in range(2,11):\n",
    "            col = ['outbreak1','outbreak2','outbreak3','outbreak_mean']\n",
    "            ind = ['step'+str(x+1) for x in range(H)]\n",
    "            ind.append('step_mean')\n",
    "            \n",
    "            file_name = \"Outbreak_RMSE_\" + series_name + \"_\" + model_name + \"_y\" +str(H) + \".xlsx\"\n",
    "            add_table = 0.0\n",
    "            for r in range(R):\n",
    "                #最新版pd.read.values读取内容时，默认存在列索引而不存在行索引，因此若存在行索引，则会被包括在结果中，需剔除\n",
    "                add_table += pd.read_excel(open_path+series_name+ \"/\" + file_name,sheet_name = 'rank'+str(r+1)).values[:,1:]  \n",
    "            mean_table = add_table/R\n",
    "            mean_df = pd.DataFrame(mean_table, index = ind, columns = col)\n",
    "            mean_df.to_excel(wr1,'H'+str(H))\n",
    "        wr1.save()"
   ]
  },
  {
   "cell_type": "markdown",
   "metadata": {},
   "source": [
    "#### Outbreak_RMSE total averaged "
   ]
  },
  {
   "cell_type": "code",
   "execution_count": 7,
   "metadata": {},
   "outputs": [],
   "source": [
    "#Outbreak RMSE averaged\n",
    "#2)total&outbreak averaged gather;first model then Outbreak_RMSE_type\n",
    "open_path = \"C:/D/HUST/research_flu_forecast/experiment/result/New/Outbreak_RMSE/repeat average/\"\n",
    "save_path = \"C:/D/HUST/research_flu_forecast/experiment/result/New/Outbreak_RMSE/\"\n",
    "\n",
    "#pandas 多级索引 \n",
    "dual_ind_list = [['SVR_Iter', 'SVR_Dir', 'SVR_MIMO', 'MLP_Iter', 'MLP_Dir','MLP_MIMO'],['outbreak1','outbreak2','outbreak3','outbreak_ave']]\n",
    "ob_rmse_ind = pd.MultiIndex.from_product(dual_ind_list,names = ['Model','Outbreak_RMSE_type'])\n",
    "col= [\"H\"+str(h) for h in range(2,11)]\n",
    "\n",
    "wr2 = pd.ExcelWriter(save_path + \"Outbreak_RMSE_total_ave_modelFirstCol.xlsx\")\n",
    "for series_name in series_list:\n",
    "    ob_rmse_table = np.zeros((4*6,9))\n",
    "    for num_m,model_name in enumerate(model_list):\n",
    "        open_file = \"repAve_Outbreak_RMSE_\" + series_name + \"_\" + model_name + \".xlsx\"\n",
    "        for H in range(2,11):\n",
    "            ob_rmse_table[num_m*4:(num_m+1)*4, H-2] = pd.read_excel(open_path + open_file, sheet_name='H'+str(H)).values[H,1:]\n",
    "    ob_rmse_df = pd.DataFrame(ob_rmse_table,index = ob_rmse_ind,columns=col)\n",
    "    ob_rmse_df.to_excel(wr2,series_name)\n",
    "wr2.save()"
   ]
  },
  {
   "cell_type": "code",
   "execution_count": 8,
   "metadata": {},
   "outputs": [],
   "source": [
    "#Outbreak RMSE averaged\n",
    "#2)total&outbreak averaged gather;first Outbreak_RMSE_type then model \n",
    "open_path = \"C:/D/HUST/research_flu_forecast/experiment/result/New/Outbreak_RMSE/repeat average/\"\n",
    "save_path = \"C:/D/HUST/research_flu_forecast/experiment/result/New/Outbreak_RMSE/\"\n",
    "\n",
    "#pandas 多级索引 \n",
    "dual_ind_list = [['outbreak1','outbreak2','outbreak3','outbreak_ave'],['SVR_Iter', 'SVR_Dir', 'SVR_MIMO', 'MLP_Iter', 'MLP_Dir','MLP_MIMO']]\n",
    "ob_rmse_ind = pd.MultiIndex.from_product(dual_ind_list,names = ['Outbreak_RMSE_type','Model'])\n",
    "col= [\"H\"+str(h) for h in range(2,11)]\n",
    "\n",
    "wr2 = pd.ExcelWriter(save_path + \"Outbreak_RMSE_total_ave.xlsx\")\n",
    "for series_name in series_list:\n",
    "    ob_rmse_table = np.zeros((4*6,9))\n",
    "    for num_m,model_name in enumerate(model_list):\n",
    "        open_file = \"repAve_Outbreak_RMSE_\" + series_name + \"_\" + model_name + \".xlsx\"\n",
    "        for H in range(2,11):\n",
    "            for ob_n in range(0,4):\n",
    "                ob_rmse_table[num_m+(ob_n*6),H-2] = pd.read_excel(open_path + open_file, sheet_name='H'+str(H)).values[H,ob_n+1]\n",
    "\n",
    "    ob_rmse_df = pd.DataFrame(ob_rmse_table,index = ob_rmse_ind,columns=col)\n",
    "    ob_rmse_df.to_excel(wr2,series_name)\n",
    "wr2.save()"
   ]
  },
  {
   "cell_type": "markdown",
   "metadata": {},
   "source": [
    "#### Outbreak_RMSE step averaged"
   ]
  },
  {
   "cell_type": "code",
   "execution_count": 9,
   "metadata": {},
   "outputs": [],
   "source": [
    "#Outbreak step gather and averaged: first Outbreak_RMSE_type then model \n",
    "open_path = \"C:/D/HUST/research_flu_forecast/experiment/result/New/Outbreak_RMSE/repeat average/\"\n",
    "save_path = \"C:/D/HUST/research_flu_forecast/experiment/result/New/Outbreak_RMSE/\"\n",
    "\n",
    "#pandas 多级索引 \n",
    "dual_ind_list = [['outbreak1','outbreak2','outbreak3','outbreak_ave'],['SVR_Iter', 'SVR_Dir', 'SVR_MIMO', 'MLP_Iter', 'MLP_Dir','MLP_MIMO']]\n",
    "ob_rmse_ind = pd.MultiIndex.from_product(dual_ind_list,names = ['Outbreak_RMSE_type','Model'])\n",
    "\n",
    "col_list = []\n",
    "for H in range(2,11):\n",
    "    for h in range(1,H+1):\n",
    "        col_list.append(['H'+str(H),'step'+str(h)])\n",
    "col_df = pd.DataFrame(col_list)\n",
    "col = pd.MultiIndex.from_frame(col_df,names = ['Horizon','Step'])\n",
    "\n",
    "wr3 = pd.ExcelWriter(save_path + \"Outbreak_RMSE_step_ave.xlsx\")\n",
    "for series_name in series_list:\n",
    "    ob_rmse_table = np.zeros((4*6,54))     #54：2+3+4+...+10\n",
    "    for num_m,model_name in enumerate(model_list):\n",
    "        open_file = \"repAve_Outbreak_RMSE_\" + series_name + \"_\" + model_name + \".xlsx\"\n",
    "        \n",
    "        H_position = 0\n",
    "        for H in range(2,11):\n",
    "            for ob_n in range(0,4):\n",
    "                ob_rmse_table[num_m+(ob_n*6),H_position:(H_position+H)] = pd.read_excel(open_path + open_file, sheet_name='H'+str(H)).values[0:H,ob_n+1]                \n",
    "            H_position += H\n",
    "            \n",
    "    ob_rmse_df = pd.DataFrame(ob_rmse_table,index = ob_rmse_ind,columns=col)\n",
    "    ob_rmse_df.to_excel(wr3,series_name)\n",
    "wr3.save()"
   ]
  },
  {
   "cell_type": "markdown",
   "metadata": {},
   "source": [
    "### Outbreak RMSE gather"
   ]
  },
  {
   "cell_type": "code",
   "execution_count": 10,
   "metadata": {},
   "outputs": [],
   "source": [
    "#total and outbreak gather\n",
    "open_path = \"C:/D/HUST/research_flu_forecast/experiment/result/New/Outbreak_RMSE/\"\n",
    "save_path = \"C:/D/HUST/research_flu_forecast/experiment/result/New/Outbreak_RMSE/Outbreak_RMSE_gather/\"\n",
    "ob_sheet = ['Outbreak1','Outbreak2','Outbreak3','total']\n",
    "\n",
    "col = model_list\n",
    "ind = ['rank' + str(i+1) for i in range(R)]\n",
    "\n",
    "for series_name in series_list:\n",
    "    for H in range(2,11):\n",
    "        save_name = \"Outbreak_RMSE_total_gather_\" + series_name + \"_H\" +str(H) + \".xlsx\"\n",
    "        wr1 = pd.ExcelWriter(save_path + save_name)\n",
    "        \n",
    "        for ob_n in range(0,4):\n",
    "            ob_rmse_table = np.zeros((20,6))\n",
    "            \n",
    "            for m_n, model_name in enumerate(model_list):\n",
    "                open_name = \"Outbreak_RMSE_\" + series_name + \"_\" + model_name + \"_y\" +str(H) + \".xlsx\"\n",
    "                \n",
    "                for r in range(R):\n",
    "                    ob_rmse_table[r, m_n] = pd.read_excel(open_path + series_name+ \"/\" + open_name, sheet_name = 'rank'+str(r+1)).values[H, ob_n+1]\n",
    "        \n",
    "            ob_rmse_df = pd.DataFrame(ob_rmse_table, index = ind, columns = col)\n",
    "            ob_rmse_df.to_excel(wr1,ob_sheet[ob_n])\n",
    "        wr1.save()"
   ]
  },
  {
   "cell_type": "markdown",
   "metadata": {},
   "source": [
    "## Outbreak MAE"
   ]
  },
  {
   "cell_type": "markdown",
   "metadata": {},
   "source": [
    "### Calculate each Outbreak MAE"
   ]
  },
  {
   "cell_type": "code",
   "execution_count": 11,
   "metadata": {},
   "outputs": [],
   "source": [
    "#calculate each Outbreak MAE\n",
    "open_path = \"C:/D/HUST/research_flu_forecast/experiment/result/New/\"\n",
    "ob_mae_save_path = \"C:/D/HUST/research_flu_forecast/experiment/result/New/Outbreak_MAE/\"\n",
    "\n",
    "for series_name in series_list:\n",
    "    test_series = test_ILI[series_name]\n",
    "    if os.path.exists(ob_mae_save_path + \"/\" + series_name) == False:\n",
    "        os.makedirs(ob_mae_save_path + \"/\" + series_name)\n",
    "    \n",
    "    for model_name in model_list:\n",
    "        for H in range(2,11):\n",
    "            ob_mae_file_name = \"Outbreak_MAE_\" + series_name + \"_\" + model_name + \"_y\" +str(H) + \".xlsx\"\n",
    "            wr = pd.ExcelWriter(ob_mae_save_path + \"/\" + series_name + \"/\" + ob_mae_file_name)\n",
    "            col = ['outbreak1','outbreak2','outbreak3','outbreak_mean']\n",
    "            ind = ['step'+str(x+1) for x in range(H)]\n",
    "            ind.append('step_mean')\n",
    "            \n",
    "            for r in range(R):\n",
    "                file_name = series_name + \"_\" + model_name + \"_y\" +str(H) + \"_rank\" + str(r+1) + \".xlsx\"\n",
    "                result_file = pd.read_excel(open_path + series_name + \"/\" + model_name + \"/\"  + file_name, sheet_name = 'y_test_pred')\n",
    "                true_len = len(test_series)\n",
    "                pred_len = result_file.shape[0]\n",
    "                \n",
    "                #各step对齐到原序列的时间点\n",
    "                t_m = np.zeros((H+1,true_len))\n",
    "                t_m[H] = test_series\n",
    "                step_list = list(range(H))\n",
    "                step_list.reverse()                    #list.reverse()没有返回值，不返回新的反序list，只是对原list的元素进行反向排序\n",
    "                for step in step_list:           \n",
    "                    t_m[step][(step+1-H)-pred_len:true_len + (step+1-H)] = result_file['step'+ str(step+1)].values\n",
    "                            \n",
    "                #三个爆发期（不包括2016-2017）的具体时间段：每年11月初-次年2月（week45-次年week8）；64-79、116-131、168-183\n",
    "                outbreaks = [t_m[:,63:79].copy(),t_m[:,115:131].copy(),t_m[:,167:183].copy()]\n",
    "                ob_mae = np.zeros((H+1,3+1))\n",
    "                \n",
    "                for n in range(3):\n",
    "                    for step in range(H):\n",
    "                         ob_mae[step,n] = np.mean(abs(outbreaks[n][H]-outbreaks[n][step]))   \n",
    "\n",
    "                #求均值\n",
    "                ob_mae[:,3] = np.mean(ob_mae[:,:3],axis=1)\n",
    "                ob_mae[H,:] = np.mean(ob_mae[:H,:],axis=0)\n",
    "                \n",
    "                ob_mae_df = pd.DataFrame(ob_mae,index = ind, columns = col)\n",
    "                ob_mae_df.to_excel(wr,'rank'+str(r+1))\n",
    "            wr.save()"
   ]
  },
  {
   "cell_type": "markdown",
   "metadata": {},
   "source": [
    "### Outbreak MAE averaged"
   ]
  },
  {
   "cell_type": "code",
   "execution_count": 12,
   "metadata": {},
   "outputs": [],
   "source": [
    "#Outbreak averaged\n",
    "#1)table(repeated experiment) averaged \n",
    "open_path = \"C:/D/HUST/research_flu_forecast/experiment/result/New/Outbreak_MAE/\"\n",
    "save_path = \"C:/D/HUST/research_flu_forecast/experiment/result/New/Outbreak_MAE/repeat average/\"\n",
    "for series_name in series_list:\n",
    "    for model_name in model_list:\n",
    "        save_name = \"repAve_Outbreak_MAE_\" + series_name + \"_\" + model_name + \".xlsx\"\n",
    "        wr1 = pd.ExcelWriter(save_path + save_name)\n",
    "        for H in range(2,11):\n",
    "            col = ['outbreak1','outbreak2','outbreak3','outbreak_mean']\n",
    "            ind = ['step'+str(x+1) for x in range(H)]\n",
    "            ind.append('step_mean')\n",
    "            \n",
    "            file_name = \"Outbreak_MAE_\" + series_name + \"_\" + model_name + \"_y\" +str(H) + \".xlsx\"\n",
    "            add_table = 0.0\n",
    "            for r in range(R):\n",
    "                add_table += pd.read_excel(open_path+series_name+ \"/\" + file_name,sheet_name = 'rank'+str(r+1)).values[:,1:]\n",
    "            mean_table = add_table/R\n",
    "            mean_df = pd.DataFrame(mean_table, index = ind, columns = col)\n",
    "            mean_df.to_excel(wr1,'H'+str(H))\n",
    "        wr1.save()"
   ]
  },
  {
   "cell_type": "markdown",
   "metadata": {},
   "source": [
    "#### Outbreak_MAE total averaged "
   ]
  },
  {
   "cell_type": "code",
   "execution_count": 14,
   "metadata": {},
   "outputs": [],
   "source": [
    "#Outbreak gather and averaged\n",
    "#2)total&outbreak averaged gather;first model then Outbreak_MAE_type\n",
    "open_path = \"C:/D/HUST/research_flu_forecast/experiment/result/New/Outbreak_MAE/repeat average/\"\n",
    "save_path = \"C:/D/HUST/research_flu_forecast/experiment/result/New/Outbreak_MAE/\"\n",
    "\n",
    "#pandas 多级索引 \n",
    "dual_ind_list = [['SVR_Iter', 'SVR_Dir', 'SVR_MIMO', 'MLP_Iter', 'MLP_Dir','MLP_MIMO'],['outbreak1','outbreak2','outbreak3','outbreak_ave']]\n",
    "ob_mae_ind = pd.MultiIndex.from_product(dual_ind_list,names = ['Model','Outbreak_MAE_type'])\n",
    "col= [\"H\"+str(h) for h in range(2,11)]\n",
    "\n",
    "wr2 = pd.ExcelWriter(save_path + \"Outbreak_MAE_total_ave_modelFirstCol.xlsx\")\n",
    "for series_name in series_list:\n",
    "    ob_mae_table = np.zeros((4*6,9))\n",
    "    for num_m,model_name in enumerate(model_list):\n",
    "        open_file = \"repAve_Outbreak_MAE_\" + series_name + \"_\" + model_name + \".xlsx\"\n",
    "        for H in range(2,11):\n",
    "            ob_mae_table[num_m*4:(num_m+1)*4, H-2] = pd.read_excel(open_path + open_file, sheet_name='H'+str(H)).values[H,1:]\n",
    "    ob_mae_df = pd.DataFrame(ob_mae_table,index = ob_mae_ind,columns=col)\n",
    "    ob_mae_df.to_excel(wr2,series_name)\n",
    "wr2.save()"
   ]
  },
  {
   "cell_type": "code",
   "execution_count": 15,
   "metadata": {},
   "outputs": [],
   "source": [
    "#Outbreak_MAE gather and averaged\n",
    "#2)total&outbreak averaged gather;first Outbreak_MAE_type then model \n",
    "open_path = \"C:/D/HUST/research_flu_forecast/experiment/result/New/Outbreak_MAE/repeat average/\"\n",
    "save_path = \"C:/D/HUST/research_flu_forecast/experiment/result/New/Outbreak_MAE/\"\n",
    "\n",
    "#pandas 多级索引 \n",
    "dual_ind_list = [['outbreak1','outbreak2','outbreak3','outbreak_ave'],['SVR_Iter', 'SVR_Dir', 'SVR_MIMO', 'MLP_Iter', 'MLP_Dir','MLP_MIMO']]\n",
    "ob_mae_ind = pd.MultiIndex.from_product(dual_ind_list,names = ['Outbreak_MAE_type','Model'])\n",
    "col= [\"H\"+str(h) for h in range(2,11)]\n",
    "\n",
    "wr2 = pd.ExcelWriter(save_path + \"Outbreak_MAE_total_ave.xlsx\")\n",
    "for series_name in series_list:\n",
    "    ob_mae_table = np.zeros((4*6,9))\n",
    "    for num_m,model_name in enumerate(model_list):\n",
    "        open_file = \"repAve_Outbreak_MAE_\" + series_name + \"_\" + model_name + \".xlsx\"\n",
    "        for H in range(2,11):\n",
    "            for ob_n in range(0,4):\n",
    "                ob_mae_table[num_m+(ob_n*6),H-2] = pd.read_excel(open_path + open_file, sheet_name='H'+str(H)).values[H,ob_n+1]\n",
    "\n",
    "    ob_mae_df = pd.DataFrame(ob_mae_table,index = ob_mae_ind,columns=col)\n",
    "    ob_mae_df.to_excel(wr2,series_name)\n",
    "wr2.save()"
   ]
  },
  {
   "cell_type": "markdown",
   "metadata": {},
   "source": [
    "#### Outbreak_MAE step averaged "
   ]
  },
  {
   "cell_type": "code",
   "execution_count": 16,
   "metadata": {},
   "outputs": [],
   "source": [
    "#Outbreak step gather and averaged: first Outbreak_MAE_type then model \n",
    "open_path = \"C:/D/HUST/research_flu_forecast/experiment/result/New/Outbreak_MAE/repeat average/\"\n",
    "save_path = \"C:/D/HUST/research_flu_forecast/experiment/result/New/Outbreak_MAE/\"\n",
    "\n",
    "#pandas 多级索引 \n",
    "dual_ind_list = [['outbreak1','outbreak2','outbreak3','outbreak_ave'],['SVR_Iter', 'SVR_Dir', 'SVR_MIMO', 'MLP_Iter', 'MLP_Dir','MLP_MIMO']]\n",
    "ob_mae_ind = pd.MultiIndex.from_product(dual_ind_list,names = ['Outbreak_MAE_type','Model'])\n",
    "\n",
    "col_list = []\n",
    "for H in range(2,11):\n",
    "    for h in range(1,H+1):\n",
    "        col_list.append(['H'+str(H),'step'+str(h)])\n",
    "col_df = pd.DataFrame(col_list)\n",
    "col = pd.MultiIndex.from_frame(col_df,names = ['Horizon','Step'])\n",
    "\n",
    "wr3 = pd.ExcelWriter(save_path + \"Outbreak_MAE_step_ave.xlsx\")\n",
    "for series_name in series_list:\n",
    "    ob_mae_table = np.zeros((4*6,54))     #54：2+3+4+...+10\n",
    "    for num_m,model_name in enumerate(model_list):\n",
    "        open_file = \"repAve_Outbreak_MAE_\" + series_name + \"_\" + model_name + \".xlsx\"\n",
    "        \n",
    "        H_position = 0\n",
    "        for H in range(2,11):\n",
    "            for ob_n in range(0,4):\n",
    "                ob_mae_table[num_m+(ob_n*6),H_position:(H_position+H)] = pd.read_excel(open_path + open_file, sheet_name='H'+str(H)).values[0:H,ob_n+1]                \n",
    "            H_position += H\n",
    "            \n",
    "    ob_mae_df = pd.DataFrame(ob_mae_table,index = ob_mae_ind,columns=col)\n",
    "    ob_mae_df.to_excel(wr3,series_name)\n",
    "wr3.save()"
   ]
  },
  {
   "cell_type": "markdown",
   "metadata": {},
   "source": [
    "### Outbreak MAE gather"
   ]
  },
  {
   "cell_type": "code",
   "execution_count": 17,
   "metadata": {},
   "outputs": [],
   "source": [
    "#total and outbreak gather\n",
    "open_path = \"C:/D/HUST/research_flu_forecast/experiment/result/New/Outbreak_MAE/\"\n",
    "save_path = \"C:/D/HUST/research_flu_forecast/experiment/result/New/Outbreak_MAE/Outbreak_MAE_gather/\"\n",
    "ob_sheet = ['Outbreak1','Outbreak2','Outbreak3','total']\n",
    "\n",
    "col = model_list\n",
    "ind = ['rank' + str(i+1) for i in range(R)]\n",
    "\n",
    "for series_name in series_list:\n",
    "    for H in range(2,11):\n",
    "        save_name = \"Outbreak_MAE_total_gather_\" + series_name + \"_H\" +str(H) + \".xlsx\"\n",
    "        wr1 = pd.ExcelWriter(save_path + save_name)\n",
    "        \n",
    "        for ob_n in range(0,4):\n",
    "            ob_mae_table = np.zeros((20,6))\n",
    "            \n",
    "            for m_n, model_name in enumerate(model_list):\n",
    "                open_name = \"Outbreak_MAE_\" + series_name + \"_\" + model_name + \"_y\" +str(H) + \".xlsx\"\n",
    "                \n",
    "                for r in range(R):\n",
    "                    ob_mae_table[r, m_n] = pd.read_excel(open_path + series_name+ \"/\" + open_name, sheet_name = 'rank'+str(r+1)).values[H, ob_n+1]\n",
    "        \n",
    "            ob_mae_df = pd.DataFrame(ob_mae_table, index = ind, columns = col)\n",
    "            ob_mae_df.to_excel(wr1,ob_sheet[ob_n])\n",
    "        wr1.save()"
   ]
  },
  {
   "cell_type": "code",
   "execution_count": 5,
   "metadata": {},
   "outputs": [],
   "source": [
    "# only total gather\n",
    "open_path = \"C:/D/HUST/research_flu_forecast/experiment/result/New/Outbreak_MAE/Outbreak_MAE_gather/\"\n",
    "save_path = \"C:/D/HUST/research_flu_forecast/experiment/result/New/Outbreak_MAE/total_metric_gather/\"\n",
    "if os.path.exists(save_path) == False:\n",
    "    os.makedirs(save_path)\n",
    "\n",
    "for series_name in series_list:\n",
    "    save_name = series_name + \"_total_Outbreak_MAE_gather.xlsx\"\n",
    "    wr = pd.ExcelWriter(save_path +save_name)\n",
    "    \n",
    "    for H in range(2,11):\n",
    "        open_name = \"Outbreak_MAE_total_gather_\" + series_name + \"_H\" +str(H) + \".xlsx\"\n",
    "        total_df = pd.read_excel(open_path + open_name,sheet_name='total', index_col=0)\n",
    "        total_df.to_excel(wr,\"H\"+str(H))\n",
    "    wr.save()"
   ]
  }
 ],
 "metadata": {
  "kernelspec": {
   "display_name": "Python 3",
   "language": "python",
   "name": "python3"
  },
  "language_info": {
   "codemirror_mode": {
    "name": "ipython",
    "version": 3
   },
   "file_extension": ".py",
   "mimetype": "text/x-python",
   "name": "python",
   "nbconvert_exporter": "python",
   "pygments_lexer": "ipython3",
   "version": "3.7.1"
  },
  "toc": {
   "base_numbering": 1,
   "nav_menu": {
    "height": "249px",
    "width": "352px"
   },
   "number_sections": true,
   "sideBar": true,
   "skip_h1_title": false,
   "title_cell": "Table of Contents",
   "title_sidebar": "Contents",
   "toc_cell": false,
   "toc_position": {
    "height": "calc(100% - 180px)",
    "left": "10px",
    "top": "150px",
    "width": "165px"
   },
   "toc_section_display": true,
   "toc_window_display": true
  },
  "varInspector": {
   "cols": {
    "lenName": 16,
    "lenType": 16,
    "lenVar": 40
   },
   "kernels_config": {
    "python": {
     "delete_cmd_postfix": "",
     "delete_cmd_prefix": "del ",
     "library": "var_list.py",
     "varRefreshCmd": "print(var_dic_list())"
    },
    "r": {
     "delete_cmd_postfix": ") ",
     "delete_cmd_prefix": "rm(",
     "library": "var_list.r",
     "varRefreshCmd": "cat(var_dic_list()) "
    }
   },
   "types_to_exclude": [
    "module",
    "function",
    "builtin_function_or_method",
    "instance",
    "_Feature"
   ],
   "window_display": false
  }
 },
 "nbformat": 4,
 "nbformat_minor": 2
}
