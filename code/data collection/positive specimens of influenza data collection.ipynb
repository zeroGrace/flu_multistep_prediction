{
 "cells": [
  {
   "cell_type": "code",
   "execution_count": 1,
   "metadata": {},
   "outputs": [],
   "source": [
    "import os\n",
    "from urllib.request import urlopen\n",
    "from bs4 import BeautifulSoup\n",
    "import pandas as pd \n",
    "import time\n",
    "import re\n",
    "import requests "
   ]
  },
  {
   "cell_type": "code",
   "execution_count": 8,
   "metadata": {},
   "outputs": [],
   "source": [
    "def openPage(urlPage):\n",
    "    try:\n",
    "        html = urlopen(urlPage)\n",
    "        bsObj = BeautifulSoup(html,\"html.parser\",from_encoding=\"gb18030\")\n",
    "    except Exception as e:\n",
    "        print('except:', e)\n",
    "        if e == \"HTTP Error 404: Not Found\":\n",
    "            print(urlPage)\n",
    "        else:\n",
    "            time.sleep(3)\n",
    "            bsObj = getLinks(urlPage)\n",
    "    return bsObj"
   ]
  },
  {
   "cell_type": "code",
   "execution_count": 9,
   "metadata": {},
   "outputs": [],
   "source": [
    "def getLinks(urlpage):\n",
    "    bsObj = openPage(urlpage)\n",
    "    weeklist = bsObj.find(\"div\",{\"class\":\"erji_list1\"}).find_all(\"li\")\n",
    "    for li in weeklist:\n",
    "        link = li.find(\"a\")['href'][1:]\n",
    "        if li not in week_dict.values():\n",
    "            week_dict[li.find(\"a\").get_text()] = \"http://www.chinaivdc.cn/cnic/zyzx/lgzb\" + li.find(\"a\")['href'][1:]"
   ]
  },
  {
   "cell_type": "code",
   "execution_count": 13,
   "metadata": {},
   "outputs": [],
   "source": [
    "week_dict = {}\n",
    "url = \"http://www.chinaivdc.cn/cnic/zyzx/lgzb/index\"\n",
    "getLinks(url + \".htm\")\n",
    "for i in range(1,21):\n",
    "    getLinks(url + \"_\" + str(i) + \".htm\")"
   ]
  },
  {
   "cell_type": "code",
   "execution_count": 14,
   "metadata": {},
   "outputs": [
    {
     "data": {
      "text/plain": [
       "'http://www.chinaivdc.cn/cnic/zyzx/lgzb/201605/t20160520_129710.htm'"
      ]
     },
     "execution_count": 14,
     "metadata": {},
     "output_type": "execute_result"
    }
   ],
   "source": [
    "for j in range(10,14):\n",
    "    week_dict.pop(\"2011 第\" + str(j) + \"周\")\n",
    "for j in range(5,10):\n",
    "    week_dict.pop(\"2011 第0\" + str(j) + \"周\")\n",
    "week_dict.pop(\"2011第04周\")"
   ]
  },
  {
   "cell_type": "code",
   "execution_count": 15,
   "metadata": {},
   "outputs": [
    {
     "name": "stdout",
     "output_type": "stream",
     "text": [
      "410\n"
     ]
    }
   ],
   "source": [
    "print(len(week_dict.values()))"
   ]
  },
  {
   "cell_type": "code",
   "execution_count": 18,
   "metadata": {
    "scrolled": true
   },
   "outputs": [
    {
     "name": "stdout",
     "output_type": "stream",
     "text": [
      "dict_values(['http://www.chinaivdc.cn/cnic/zyzx/lgzb/201903/t20190301_199745.htm', 'http://www.chinaivdc.cn/cnic/zyzx/lgzb/201902/t20190226_199648.htm', 'http://www.chinaivdc.cn/cnic/zyzx/lgzb/201902/t20190215_199512.htm', 'http://www.chinaivdc.cn/cnic/zyzx/lgzb/201902/t20190215_199499.htm', 'http://www.chinaivdc.cn/cnic/zyzx/lgzb/201902/t20190203_199331.htm', 'http://www.chinaivdc.cn/cnic/zyzx/lgzb/201901/t20190131_199298.htm', 'http://www.chinaivdc.cn/cnic/zyzx/lgzb/201901/t20190118_198920.htm', 'http://www.chinaivdc.cn/cnic/zyzx/lgzb/201901/t20190113_198818.htm', 'http://www.chinaivdc.cn/cnic/zyzx/lgzb/201901/t20190104_198668.htm', 'http://www.chinaivdc.cn/cnic/zyzx/lgzb/201901/t20190102_198620.htm', 'http://www.chinaivdc.cn/cnic/zyzx/lgzb/201812/t20181224_198439.htm', 'http://www.chinaivdc.cn/cnic/zyzx/lgzb/201812/t20181219_198333.htm', 'http://www.chinaivdc.cn/cnic/zyzx/lgzb/201812/t20181207_198007.htm', 'http://www.chinaivdc.cn/cnic/zyzx/lgzb/201812/t20181207_198005.htm', 'http://www.chinaivdc.cn/cnic/zyzx/lgzb/201811/t20181127_197545.htm', 'http://www.chinaivdc.cn/cnic/zyzx/lgzb/201811/t20181127_197544.htm', 'http://www.chinaivdc.cn/cnic/zyzx/lgzb/201811/t20181109_197045.htm', 'http://www.chinaivdc.cn/cnic/zyzx/lgzb/201811/t20181105_196899.htm', 'http://www.chinaivdc.cn/cnic/zyzx/lgzb/201810/t20181029_196698.htm', 'http://www.chinaivdc.cn/cnic/zyzx/lgzb/201810/t20181023_195600.htm', 'http://www.chinaivdc.cn/cnic/zyzx/lgzb/201810/t20181016_195103.htm', 'http://www.chinaivdc.cn/cnic/zyzx/lgzb/201810/t20181016_195082.htm', 'http://www.chinaivdc.cn/cnic/zyzx/lgzb/201809/t20180929_194398.htm', 'http://www.chinaivdc.cn/cnic/zyzx/lgzb/201809/t20180923_194062.htm', 'http://www.chinaivdc.cn/cnic/zyzx/lgzb/201809/t20180916_193898.htm', 'http://www.chinaivdc.cn/cnic/zyzx/lgzb/201809/t20180911_193721.htm', 'http://www.chinaivdc.cn/cnic/zyzx/lgzb/201809/t20180902_191898.htm', 'http://www.chinaivdc.cn/cnic/zyzx/lgzb/201808/t20180824_189988.htm', 'http://www.chinaivdc.cn/cnic/zyzx/lgzb/201808/t20180820_189840.htm', 'http://www.chinaivdc.cn/cnic/zyzx/lgzb/201808/t20180810_189667.htm', 'http://www.chinaivdc.cn/cnic/zyzx/lgzb/201808/t20180806_189507.htm', 'http://www.chinaivdc.cn/cnic/zyzx/lgzb/201807/t20180730_189333.htm', 'http://www.chinaivdc.cn/cnic/zyzx/lgzb/201807/t20180723_189109.htm', 'http://www.chinaivdc.cn/cnic/zyzx/lgzb/201807/t20180717_188865.htm', 'http://www.chinaivdc.cn/cnic/zyzx/lgzb/201807/t20180706_183191.htm', 'http://www.chinaivdc.cn/cnic/zyzx/lgzb/201806/t20180629_181062.htm', 'http://www.chinaivdc.cn/cnic/zyzx/lgzb/201806/t20180624_180912.htm', 'http://www.chinaivdc.cn/cnic/zyzx/lgzb/201806/t20180615_173720.htm', 'http://www.chinaivdc.cn/cnic/zyzx/lgzb/201806/t20180611_173264.htm', 'http://www.chinaivdc.cn/cnic/zyzx/lgzb/201806/t20180604_172944.htm', 'http://www.chinaivdc.cn/cnic/zyzx/lgzb/201805/t20180527_172693.htm', 'http://www.chinaivdc.cn/cnic/zyzx/lgzb/201805/t20180520_172427.htm', 'http://www.chinaivdc.cn/cnic/zyzx/lgzb/201805/t20180513_169109.htm', 'http://www.chinaivdc.cn/cnic/zyzx/lgzb/201805/t20180505_168843.htm', 'http://www.chinaivdc.cn/cnic/zyzx/lgzb/201804/t20180427_168653.htm', 'http://www.chinaivdc.cn/cnic/zyzx/lgzb/201804/t20180424_168442.htm', 'http://www.chinaivdc.cn/cnic/zyzx/lgzb/201804/t20180413_162382.htm', 'http://www.chinaivdc.cn/cnic/zyzx/lgzb/201804/t20180410_162323.htm', 'http://www.chinaivdc.cn/cnic/zyzx/lgzb/201803/t20180331_160757.htm', 'http://www.chinaivdc.cn/cnic/zyzx/lgzb/201803/t20180329_160667.htm', 'http://www.chinaivdc.cn/cnic/zyzx/lgzb/201803/t20180329_160666.htm', 'http://www.chinaivdc.cn/cnic/zyzx/lgzb/201803/t20180329_160665.htm', 'http://www.chinaivdc.cn/cnic/zyzx/lgzb/201803/t20180306_159451.htm', 'http://www.chinaivdc.cn/cnic/zyzx/lgzb/201802/t20180226_159343.htm', 'http://www.chinaivdc.cn/cnic/zyzx/lgzb/201802/t20180216_159256.htm', 'http://www.chinaivdc.cn/cnic/zyzx/lgzb/201802/t20180213_159230.htm', 'http://www.chinaivdc.cn/cnic/zyzx/lgzb/201802/t20180202_158647.htm', 'http://www.chinaivdc.cn/cnic/zyzx/lgzb/201801/t20180127_158478.htm', 'http://www.chinaivdc.cn/cnic/zyzx/lgzb/201801/t20180121_158316.htm', 'http://www.chinaivdc.cn/cnic/zyzx/lgzb/201801/t20180114_158170.htm', 'http://www.chinaivdc.cn/cnic/zyzx/lgzb/201801/t20180108_157998.htm', 'http://www.chinaivdc.cn/cnic/zyzx/lgzb/201712/t20171230_157645.htm', 'http://www.chinaivdc.cn/cnic/zyzx/lgzb/201712/t20171226_157312.htm', 'http://www.chinaivdc.cn/cnic/zyzx/lgzb/201712/t20171218_156643.htm', 'http://www.chinaivdc.cn/cnic/zyzx/lgzb/201712/t20171210_156345.htm', 'http://www.chinaivdc.cn/cnic/zyzx/lgzb/201712/t20171210_156344.htm', 'http://www.chinaivdc.cn/cnic/zyzx/lgzb/201711/t20171125_155776.htm', 'http://www.chinaivdc.cn/cnic/zyzx/lgzb/201711/t20171123_155380.htm', 'http://www.chinaivdc.cn/cnic/zyzx/lgzb/201711/t20171123_155379.htm', 'http://www.chinaivdc.cn/cnic/zyzx/lgzb/201711/t20171107_154704.htm', 'http://www.chinaivdc.cn/cnic/zyzx/lgzb/201711/t20171107_154703.htm', 'http://www.chinaivdc.cn/cnic/zyzx/lgzb/201711/t20171107_154702.htm', 'http://www.chinaivdc.cn/cnic/zyzx/lgzb/201711/t20171107_154701.htm', 'http://www.chinaivdc.cn/cnic/zyzx/lgzb/201711/t20171107_154700.htm', 'http://www.chinaivdc.cn/cnic/zyzx/lgzb/201711/t20171106_154688.htm', 'http://www.chinaivdc.cn/cnic/zyzx/lgzb/201709/t20170925_153747.htm', 'http://www.chinaivdc.cn/cnic/zyzx/lgzb/201709/t20170917_153584.htm', 'http://www.chinaivdc.cn/cnic/zyzx/lgzb/201709/t20170917_153583.htm', 'http://www.chinaivdc.cn/cnic/zyzx/lgzb/201709/t20170905_151982.htm', 'http://www.chinaivdc.cn/cnic/zyzx/lgzb/201708/t20170828_151328.htm', 'http://www.chinaivdc.cn/cnic/zyzx/lgzb/201708/t20170822_149650.htm', 'http://www.chinaivdc.cn/cnic/zyzx/lgzb/201708/t20170814_149401.htm', 'http://www.chinaivdc.cn/cnic/zyzx/lgzb/201708/t20170807_149211.htm', 'http://www.chinaivdc.cn/cnic/zyzx/lgzb/201707/t20170731_148996.htm', 'http://www.chinaivdc.cn/cnic/zyzx/lgzb/201707/t20170726_148652.htm', 'http://www.chinaivdc.cn/cnic/zyzx/lgzb/201707/t20170718_148008.htm', 'http://www.chinaivdc.cn/cnic/zyzx/lgzb/201707/t20170713_147659.htm', 'http://www.chinaivdc.cn/cnic/zyzx/lgzb/201707/t20170706_147482.htm', 'http://www.chinaivdc.cn/cnic/zyzx/lgzb/201707/t20170706_147481.htm', 'http://www.chinaivdc.cn/cnic/zyzx/lgzb/201707/t20170706_147480.htm', 'http://www.chinaivdc.cn/cnic/zyzx/lgzb/201706/t20170612_144031.htm', 'http://www.chinaivdc.cn/cnic/zyzx/lgzb/201706/t20170607_143880.htm', 'http://www.chinaivdc.cn/cnic/zyzx/lgzb/201705/t20170531_143631.htm', 'http://www.chinaivdc.cn/cnic/zyzx/lgzb/201705/t20170522_143271.htm', 'http://www.chinaivdc.cn/cnic/zyzx/lgzb/201705/t20170515_142991.htm', 'http://www.chinaivdc.cn/cnic/zyzx/lgzb/201705/t20170510_142825.htm', 'http://www.chinaivdc.cn/cnic/zyzx/lgzb/201705/t20170508_142737.htm', 'http://www.chinaivdc.cn/cnic/zyzx/lgzb/201704/t20170424_142306.htm', 'http://www.chinaivdc.cn/cnic/zyzx/lgzb/201704/t20170417_142134.htm', 'http://www.chinaivdc.cn/cnic/zyzx/lgzb/201704/t20170410_141972.htm', 'http://www.chinaivdc.cn/cnic/zyzx/lgzb/201704/t20170405_141879.htm', 'http://www.chinaivdc.cn/cnic/zyzx/lgzb/201703/t20170327_141662.htm', 'http://www.chinaivdc.cn/cnic/zyzx/lgzb/201703/t20170320_139207.htm', 'http://www.chinaivdc.cn/cnic/zyzx/lgzb/201703/t20170313_138977.htm', 'http://www.chinaivdc.cn/cnic/zyzx/lgzb/201703/t20170306_138778.htm', 'http://www.chinaivdc.cn/cnic/zyzx/lgzb/201702/t20170227_138667.htm', 'http://www.chinaivdc.cn/cnic/zyzx/lgzb/201702/t20170222_138531.htm', 'http://www.chinaivdc.cn/cnic/zyzx/lgzb/201702/t20170222_138530.htm', 'http://www.chinaivdc.cn/cnic/zyzx/lgzb/201702/t20170222_138529.htm', 'http://www.chinaivdc.cn/cnic/zyzx/lgzb/201702/t20170222_138528.htm', 'http://www.chinaivdc.cn/cnic/zyzx/lgzb/201702/t20170204_137782.htm', 'http://www.chinaivdc.cn/cnic/zyzx/lgzb/201702/t20170204_137781.htm', 'http://www.chinaivdc.cn/cnic/zyzx/lgzb/201701/t20170112_137316.htm', 'http://www.chinaivdc.cn/cnic/zyzx/lgzb/201701/t20170105_137173.htm', 'http://www.chinaivdc.cn/cnic/zyzx/lgzb/201612/t20161226_136917.htm', 'http://www.chinaivdc.cn/cnic/zyzx/lgzb/201612/t20161220_136725.htm', 'http://www.chinaivdc.cn/cnic/zyzx/lgzb/201612/t20161220_136724.htm', 'http://www.chinaivdc.cn/cnic/zyzx/lgzb/201612/t20161205_136305.htm', 'http://www.chinaivdc.cn/cnic/zyzx/lgzb/201611/t20161128_136093.htm', 'http://www.chinaivdc.cn/cnic/zyzx/lgzb/201611/t20161124_136027.htm', 'http://www.chinaivdc.cn/cnic/zyzx/lgzb/201611/t20161114_135586.htm', 'http://www.chinaivdc.cn/cnic/zyzx/lgzb/201611/t20161107_135366.htm', 'http://www.chinaivdc.cn/cnic/zyzx/lgzb/201610/t20161031_135165.htm', 'http://www.chinaivdc.cn/cnic/zyzx/lgzb/201610/t20161031_135164.htm', 'http://www.chinaivdc.cn/cnic/zyzx/lgzb/201610/t20161013_134748.htm', 'http://www.chinaivdc.cn/cnic/zyzx/lgzb/201610/t20161013_134747.htm', 'http://www.chinaivdc.cn/cnic/zyzx/lgzb/201610/t20161009_134640.htm', 'http://www.chinaivdc.cn/cnic/zyzx/lgzb/201609/t20160925_134339.htm', 'http://www.chinaivdc.cn/cnic/zyzx/lgzb/201609/t20160918_134167.htm', 'http://www.chinaivdc.cn/cnic/zyzx/lgzb/201609/t20160912_134100.htm', 'http://www.chinaivdc.cn/cnic/zyzx/lgzb/201609/t20160912_134098.htm', 'http://www.chinaivdc.cn/cnic/zyzx/lgzb/201609/t20160912_134097.htm', 'http://www.chinaivdc.cn/cnic/zyzx/lgzb/201608/t20160823_133768.htm', 'http://www.chinaivdc.cn/cnic/zyzx/lgzb/201608/t20160817_133667.htm', 'http://www.chinaivdc.cn/cnic/zyzx/lgzb/201608/t20160810_133522.htm', 'http://www.chinaivdc.cn/cnic/zyzx/lgzb/201608/t20160810_133521.htm', 'http://www.chinaivdc.cn/cnic/zyzx/lgzb/201607/t20160727_133053.htm', 'http://www.chinaivdc.cn/cnic/zyzx/lgzb/201607/t20160718_132286.htm', 'http://www.chinaivdc.cn/cnic/zyzx/lgzb/201607/t20160712_132101.htm', 'http://www.chinaivdc.cn/cnic/zyzx/lgzb/201607/t20160707_132006.htm', 'http://www.chinaivdc.cn/cnic/zyzx/lgzb/201607/t20160701_131838.htm', 'http://www.chinaivdc.cn/cnic/zyzx/lgzb/201607/t20160701_131837.htm', 'http://www.chinaivdc.cn/cnic/zyzx/lgzb/201607/t20160701_131836.htm', 'http://www.chinaivdc.cn/cnic/zyzx/lgzb/201607/t20160701_131819.htm', 'http://www.chinaivdc.cn/cnic/zyzx/lgzb/201606/t20160627_131677.htm', 'http://www.chinaivdc.cn/cnic/zyzx/lgzb/201606/t20160602_130511.htm', 'http://www.chinaivdc.cn/cnic/zyzx/lgzb/201606/t20160602_130510.htm', 'http://www.chinaivdc.cn/cnic/zyzx/lgzb/201606/t20160602_130509.htm', 'http://www.chinaivdc.cn/cnic/zyzx/lgzb/201606/t20160602_130508.htm', 'http://www.chinaivdc.cn/cnic/zyzx/lgzb/201606/t20160602_130507.htm', 'http://www.chinaivdc.cn/cnic/zyzx/lgzb/201606/t20160602_130506.htm', 'http://www.chinaivdc.cn/cnic/zyzx/lgzb/201606/t20160602_130503.htm', 'http://www.chinaivdc.cn/cnic/zyzx/lgzb/201606/t20160602_130504.htm', 'http://www.chinaivdc.cn/cnic/zyzx/lgzb/201606/t20160602_130502.htm', 'http://www.chinaivdc.cn/cnic/zyzx/lgzb/201606/t20160602_130501.htm', 'http://www.chinaivdc.cn/cnic/zyzx/lgzb/201606/t20160602_130500.htm', 'http://www.chinaivdc.cn/cnic/zyzx/lgzb/201606/t20160602_130499.htm', 'http://www.chinaivdc.cn/cnic/zyzx/lgzb/201606/t20160602_130498.htm', 'http://www.chinaivdc.cn/cnic/zyzx/lgzb/201606/t20160602_130497.htm', 'http://www.chinaivdc.cn/cnic/zyzx/lgzb/201606/t20160602_130496.htm', 'http://www.chinaivdc.cn/cnic/zyzx/lgzb/201606/t20160602_130495.htm', 'http://www.chinaivdc.cn/cnic/zyzx/lgzb/201606/t20160602_130494.htm', 'http://www.chinaivdc.cn/cnic/zyzx/lgzb/201606/t20160602_130493.htm', 'http://www.chinaivdc.cn/cnic/zyzx/lgzb/201606/t20160602_130492.htm', 'http://www.chinaivdc.cn/cnic/zyzx/lgzb/201606/t20160602_130491.htm', 'http://www.chinaivdc.cn/cnic/zyzx/lgzb/201606/t20160602_130490.htm', 'http://www.chinaivdc.cn/cnic/zyzx/lgzb/201606/t20160602_130489.htm', 'http://www.chinaivdc.cn/cnic/zyzx/lgzb/201606/t20160602_130488.htm', 'http://www.chinaivdc.cn/cnic/zyzx/lgzb/201606/t20160602_130487.htm', 'http://www.chinaivdc.cn/cnic/zyzx/lgzb/201606/t20160602_130486.htm', 'http://www.chinaivdc.cn/cnic/zyzx/lgzb/201606/t20160602_130485.htm', 'http://www.chinaivdc.cn/cnic/zyzx/lgzb/201606/t20160602_130484.htm', 'http://www.chinaivdc.cn/cnic/zyzx/lgzb/201606/t20160602_130482.htm', 'http://www.chinaivdc.cn/cnic/zyzx/lgzb/201606/t20160602_130483.htm', 'http://www.chinaivdc.cn/cnic/zyzx/lgzb/201606/t20160602_130481.htm', 'http://www.chinaivdc.cn/cnic/zyzx/lgzb/201606/t20160602_130480.htm', 'http://www.chinaivdc.cn/cnic/zyzx/lgzb/201606/t20160602_130479.htm', 'http://www.chinaivdc.cn/cnic/zyzx/lgzb/201606/t20160602_130477.htm', 'http://www.chinaivdc.cn/cnic/zyzx/lgzb/201606/t20160602_130478.htm', 'http://www.chinaivdc.cn/cnic/zyzx/lgzb/201606/t20160602_130476.htm', 'http://www.chinaivdc.cn/cnic/zyzx/lgzb/201606/t20160602_130475.htm', 'http://www.chinaivdc.cn/cnic/zyzx/lgzb/201606/t20160602_130474.htm', 'http://www.chinaivdc.cn/cnic/zyzx/lgzb/201606/t20160602_130473.htm', 'http://www.chinaivdc.cn/cnic/zyzx/lgzb/201606/t20160602_130472.htm', 'http://www.chinaivdc.cn/cnic/zyzx/lgzb/201606/t20160602_130471.htm', 'http://www.chinaivdc.cn/cnic/zyzx/lgzb/201606/t20160602_130470.htm', 'http://www.chinaivdc.cn/cnic/zyzx/lgzb/201606/t20160602_130469.htm', 'http://www.chinaivdc.cn/cnic/zyzx/lgzb/201606/t20160602_130467.htm', 'http://www.chinaivdc.cn/cnic/zyzx/lgzb/201606/t20160602_130466.htm', 'http://www.chinaivdc.cn/cnic/zyzx/lgzb/201606/t20160602_130465.htm', 'http://www.chinaivdc.cn/cnic/zyzx/lgzb/201606/t20160602_130464.htm', 'http://www.chinaivdc.cn/cnic/zyzx/lgzb/201606/t20160602_130463.htm', 'http://www.chinaivdc.cn/cnic/zyzx/lgzb/201606/t20160602_130461.htm', 'http://www.chinaivdc.cn/cnic/zyzx/lgzb/201606/t20160602_130457.htm', 'http://www.chinaivdc.cn/cnic/zyzx/lgzb/201606/t20160602_130456.htm', 'http://www.chinaivdc.cn/cnic/zyzx/lgzb/201606/t20160602_130455.htm', 'http://www.chinaivdc.cn/cnic/zyzx/lgzb/201606/t20160602_130454.htm', 'http://www.chinaivdc.cn/cnic/zyzx/lgzb/201606/t20160601_130428.htm', 'http://www.chinaivdc.cn/cnic/zyzx/lgzb/201606/t20160601_130427.htm', 'http://www.chinaivdc.cn/cnic/zyzx/lgzb/201606/t20160601_130425.htm', 'http://www.chinaivdc.cn/cnic/zyzx/lgzb/201606/t20160601_130424.htm', 'http://www.chinaivdc.cn/cnic/zyzx/lgzb/201606/t20160601_130423.htm', 'http://www.chinaivdc.cn/cnic/zyzx/lgzb/201606/t20160601_130422.htm', 'http://www.chinaivdc.cn/cnic/zyzx/lgzb/201606/t20160601_130421.htm', 'http://www.chinaivdc.cn/cnic/zyzx/lgzb/201606/t20160601_130418.htm', 'http://www.chinaivdc.cn/cnic/zyzx/lgzb/201606/t20160601_130417.htm', 'http://www.chinaivdc.cn/cnic/zyzx/lgzb/201606/t20160601_130416.htm', 'http://www.chinaivdc.cn/cnic/zyzx/lgzb/201606/t20160601_130397.htm', 'http://www.chinaivdc.cn/cnic/zyzx/lgzb/201606/t20160601_130396.htm', 'http://www.chinaivdc.cn/cnic/zyzx/lgzb/201606/t20160601_130395.htm', 'http://www.chinaivdc.cn/cnic/zyzx/lgzb/201606/t20160601_130394.htm', 'http://www.chinaivdc.cn/cnic/zyzx/lgzb/201606/t20160601_130393.htm', 'http://www.chinaivdc.cn/cnic/zyzx/lgzb/201606/t20160601_130392.htm', 'http://www.chinaivdc.cn/cnic/zyzx/lgzb/201606/t20160601_130387.htm', 'http://www.chinaivdc.cn/cnic/zyzx/lgzb/201606/t20160601_130386.htm', 'http://www.chinaivdc.cn/cnic/zyzx/lgzb/201606/t20160601_130384.htm', 'http://www.chinaivdc.cn/cnic/zyzx/lgzb/201606/t20160601_130383.htm', 'http://www.chinaivdc.cn/cnic/zyzx/lgzb/201605/t20160531_130368.htm', 'http://www.chinaivdc.cn/cnic/zyzx/lgzb/201605/t20160531_130367.htm', 'http://www.chinaivdc.cn/cnic/zyzx/lgzb/201605/t20160531_130366.htm', 'http://www.chinaivdc.cn/cnic/zyzx/lgzb/201605/t20160531_130364.htm', 'http://www.chinaivdc.cn/cnic/zyzx/lgzb/201605/t20160531_130363.htm', 'http://www.chinaivdc.cn/cnic/zyzx/lgzb/201605/t20160531_130361.htm', 'http://www.chinaivdc.cn/cnic/zyzx/lgzb/201605/t20160531_130360.htm', 'http://www.chinaivdc.cn/cnic/zyzx/lgzb/201605/t20160531_130359.htm', 'http://www.chinaivdc.cn/cnic/zyzx/lgzb/201605/t20160531_130358.htm', 'http://www.chinaivdc.cn/cnic/zyzx/lgzb/201605/t20160531_130357.htm', 'http://www.chinaivdc.cn/cnic/zyzx/lgzb/201605/t20160531_130356.htm', 'http://www.chinaivdc.cn/cnic/zyzx/lgzb/201605/t20160531_130355.htm', 'http://www.chinaivdc.cn/cnic/zyzx/lgzb/201605/t20160531_130354.htm', 'http://www.chinaivdc.cn/cnic/zyzx/lgzb/201605/t20160531_130353.htm', 'http://www.chinaivdc.cn/cnic/zyzx/lgzb/201605/t20160531_130352.htm', 'http://www.chinaivdc.cn/cnic/zyzx/lgzb/201605/t20160531_130351.htm', 'http://www.chinaivdc.cn/cnic/zyzx/lgzb/201605/t20160531_130350.htm', 'http://www.chinaivdc.cn/cnic/zyzx/lgzb/201605/t20160531_130349.htm', 'http://www.chinaivdc.cn/cnic/zyzx/lgzb/201605/t20160531_130348.htm', 'http://www.chinaivdc.cn/cnic/zyzx/lgzb/201605/t20160531_130347.htm', 'http://www.chinaivdc.cn/cnic/zyzx/lgzb/201605/t20160531_130346.htm', 'http://www.chinaivdc.cn/cnic/zyzx/lgzb/201605/t20160531_130344.htm', 'http://www.chinaivdc.cn/cnic/zyzx/lgzb/201605/t20160531_130345.htm', 'http://www.chinaivdc.cn/cnic/zyzx/lgzb/201605/t20160531_130343.htm', 'http://www.chinaivdc.cn/cnic/zyzx/lgzb/201605/t20160531_130342.htm', 'http://www.chinaivdc.cn/cnic/zyzx/lgzb/201605/t20160531_130341.htm', 'http://www.chinaivdc.cn/cnic/zyzx/lgzb/201605/t20160531_130339.htm', 'http://www.chinaivdc.cn/cnic/zyzx/lgzb/201605/t20160531_130338.htm', 'http://www.chinaivdc.cn/cnic/zyzx/lgzb/201605/t20160531_130337.htm', 'http://www.chinaivdc.cn/cnic/zyzx/lgzb/201605/t20160531_130336.htm', 'http://www.chinaivdc.cn/cnic/zyzx/lgzb/201605/t20160531_130335.htm', 'http://www.chinaivdc.cn/cnic/zyzx/lgzb/201605/t20160531_130334.htm', 'http://www.chinaivdc.cn/cnic/zyzx/lgzb/201605/t20160531_130333.htm', 'http://www.chinaivdc.cn/cnic/zyzx/lgzb/201605/t20160531_130332.htm', 'http://www.chinaivdc.cn/cnic/zyzx/lgzb/201605/t20160531_130331.htm', 'http://www.chinaivdc.cn/cnic/zyzx/lgzb/201605/t20160531_130330.htm', 'http://www.chinaivdc.cn/cnic/zyzx/lgzb/201605/t20160531_130329.htm', 'http://www.chinaivdc.cn/cnic/zyzx/lgzb/201605/t20160531_130327.htm', 'http://www.chinaivdc.cn/cnic/zyzx/lgzb/201605/t20160531_130326.htm', 'http://www.chinaivdc.cn/cnic/zyzx/lgzb/201605/t20160531_130324.htm', 'http://www.chinaivdc.cn/cnic/zyzx/lgzb/201605/t20160531_130322.htm', 'http://www.chinaivdc.cn/cnic/zyzx/lgzb/201605/t20160531_130320.htm', 'http://www.chinaivdc.cn/cnic/zyzx/lgzb/201605/t20160531_130271.htm', 'http://www.chinaivdc.cn/cnic/zyzx/lgzb/201605/t20160531_130270.htm', 'http://www.chinaivdc.cn/cnic/zyzx/lgzb/201605/t20160531_130268.htm', 'http://www.chinaivdc.cn/cnic/zyzx/lgzb/201605/t20160531_130267.htm', 'http://www.chinaivdc.cn/cnic/zyzx/lgzb/201605/t20160531_130266.htm', 'http://www.chinaivdc.cn/cnic/zyzx/lgzb/201605/t20160531_130265.htm', 'http://www.chinaivdc.cn/cnic/zyzx/lgzb/201605/t20160531_130264.htm', 'http://www.chinaivdc.cn/cnic/zyzx/lgzb/201605/t20160531_130263.htm', 'http://www.chinaivdc.cn/cnic/zyzx/lgzb/201605/t20160531_130261.htm', 'http://www.chinaivdc.cn/cnic/zyzx/lgzb/201605/t20160531_130260.htm', 'http://www.chinaivdc.cn/cnic/zyzx/lgzb/201605/t20160531_130258.htm', 'http://www.chinaivdc.cn/cnic/zyzx/lgzb/201605/t20160531_130257.htm', 'http://www.chinaivdc.cn/cnic/zyzx/lgzb/201605/t20160531_130255.htm', 'http://www.chinaivdc.cn/cnic/zyzx/lgzb/201605/t20160531_130254.htm', 'http://www.chinaivdc.cn/cnic/zyzx/lgzb/201605/t20160531_130253.htm', 'http://www.chinaivdc.cn/cnic/zyzx/lgzb/201605/t20160531_130252.htm', 'http://www.chinaivdc.cn/cnic/zyzx/lgzb/201605/t20160531_130251.htm', 'http://www.chinaivdc.cn/cnic/zyzx/lgzb/201605/t20160531_130250.htm', 'http://www.chinaivdc.cn/cnic/zyzx/lgzb/201605/t20160531_130249.htm', 'http://www.chinaivdc.cn/cnic/zyzx/lgzb/201605/t20160531_130248.htm', 'http://www.chinaivdc.cn/cnic/zyzx/lgzb/201605/t20160531_130247.htm', 'http://www.chinaivdc.cn/cnic/zyzx/lgzb/201605/t20160531_130246.htm', 'http://www.chinaivdc.cn/cnic/zyzx/lgzb/201605/t20160531_130244.htm', 'http://www.chinaivdc.cn/cnic/zyzx/lgzb/201605/t20160531_130243.htm', 'http://www.chinaivdc.cn/cnic/zyzx/lgzb/201605/t20160531_130242.htm', 'http://www.chinaivdc.cn/cnic/zyzx/lgzb/201605/t20160531_130241.htm', 'http://www.chinaivdc.cn/cnic/zyzx/lgzb/201605/t20160531_130239.htm', 'http://www.chinaivdc.cn/cnic/zyzx/lgzb/201605/t20160531_130237.htm', 'http://www.chinaivdc.cn/cnic/zyzx/lgzb/201605/t20160531_130235.htm', 'http://www.chinaivdc.cn/cnic/zyzx/lgzb/201605/t20160531_130233.htm', 'http://www.chinaivdc.cn/cnic/zyzx/lgzb/201605/t20160531_130236.htm', 'http://www.chinaivdc.cn/cnic/zyzx/lgzb/201605/t20160531_130232.htm', 'http://www.chinaivdc.cn/cnic/zyzx/lgzb/201605/t20160530_130217.htm', 'http://www.chinaivdc.cn/cnic/zyzx/lgzb/201605/t20160530_130216.htm', 'http://www.chinaivdc.cn/cnic/zyzx/lgzb/201605/t20160530_130215.htm', 'http://www.chinaivdc.cn/cnic/zyzx/lgzb/201605/t20160530_130214.htm', 'http://www.chinaivdc.cn/cnic/zyzx/lgzb/201605/t20160530_130213.htm', 'http://www.chinaivdc.cn/cnic/zyzx/lgzb/201605/t20160530_130212.htm', 'http://www.chinaivdc.cn/cnic/zyzx/lgzb/201605/t20160530_130211.htm', 'http://www.chinaivdc.cn/cnic/zyzx/lgzb/201605/t20160530_130210.htm', 'http://www.chinaivdc.cn/cnic/zyzx/lgzb/201605/t20160530_130209.htm', 'http://www.chinaivdc.cn/cnic/zyzx/lgzb/201605/t20160530_130208.htm', 'http://www.chinaivdc.cn/cnic/zyzx/lgzb/201605/t20160530_130206.htm', 'http://www.chinaivdc.cn/cnic/zyzx/lgzb/201605/t20160530_130205.htm', 'http://www.chinaivdc.cn/cnic/zyzx/lgzb/201605/t20160530_130204.htm', 'http://www.chinaivdc.cn/cnic/zyzx/lgzb/201605/t20160530_130203.htm', 'http://www.chinaivdc.cn/cnic/zyzx/lgzb/201605/t20160530_130202.htm', 'http://www.chinaivdc.cn/cnic/zyzx/lgzb/201605/t20160530_130201.htm', 'http://www.chinaivdc.cn/cnic/zyzx/lgzb/201605/t20160530_130200.htm', 'http://www.chinaivdc.cn/cnic/zyzx/lgzb/201605/t20160530_130199.htm', 'http://www.chinaivdc.cn/cnic/zyzx/lgzb/201605/t20160530_130198.htm', 'http://www.chinaivdc.cn/cnic/zyzx/lgzb/201605/t20160530_130197.htm', 'http://www.chinaivdc.cn/cnic/zyzx/lgzb/201605/t20160530_130196.htm', 'http://www.chinaivdc.cn/cnic/zyzx/lgzb/201605/t20160530_130194.htm', 'http://www.chinaivdc.cn/cnic/zyzx/lgzb/201605/t20160530_130195.htm', 'http://www.chinaivdc.cn/cnic/zyzx/lgzb/201605/t20160530_130193.htm', 'http://www.chinaivdc.cn/cnic/zyzx/lgzb/201605/t20160530_130192.htm', 'http://www.chinaivdc.cn/cnic/zyzx/lgzb/201605/t20160530_130191.htm', 'http://www.chinaivdc.cn/cnic/zyzx/lgzb/201605/t20160530_130190.htm', 'http://www.chinaivdc.cn/cnic/zyzx/lgzb/201605/t20160530_130188.htm', 'http://www.chinaivdc.cn/cnic/zyzx/lgzb/201605/t20160530_130187.htm', 'http://www.chinaivdc.cn/cnic/zyzx/lgzb/201605/t20160530_130186.htm', 'http://www.chinaivdc.cn/cnic/zyzx/lgzb/201605/t20160526_130060.htm', 'http://www.chinaivdc.cn/cnic/zyzx/lgzb/201605/t20160526_130059.htm', 'http://www.chinaivdc.cn/cnic/zyzx/lgzb/201605/t20160526_130055.htm', 'http://www.chinaivdc.cn/cnic/zyzx/lgzb/201605/t20160526_130056.htm', 'http://www.chinaivdc.cn/cnic/zyzx/lgzb/201605/t20160526_130057.htm', 'http://www.chinaivdc.cn/cnic/zyzx/lgzb/201605/t20160526_130054.htm', 'http://www.chinaivdc.cn/cnic/zyzx/lgzb/201605/t20160526_130053.htm', 'http://www.chinaivdc.cn/cnic/zyzx/lgzb/201605/t20160526_130052.htm', 'http://www.chinaivdc.cn/cnic/zyzx/lgzb/201605/t20160526_130051.htm', 'http://www.chinaivdc.cn/cnic/zyzx/lgzb/201605/t20160526_130050.htm', 'http://www.chinaivdc.cn/cnic/zyzx/lgzb/201605/t20160526_130048.htm', 'http://www.chinaivdc.cn/cnic/zyzx/lgzb/201605/t20160526_130047.htm', 'http://www.chinaivdc.cn/cnic/zyzx/lgzb/201605/t20160526_130045.htm', 'http://www.chinaivdc.cn/cnic/zyzx/lgzb/201605/t20160526_130046.htm', 'http://www.chinaivdc.cn/cnic/zyzx/lgzb/201605/t20160526_130044.htm', 'http://www.chinaivdc.cn/cnic/zyzx/lgzb/201605/t20160526_130042.htm', 'http://www.chinaivdc.cn/cnic/zyzx/lgzb/201605/t20160526_130040.htm', 'http://www.chinaivdc.cn/cnic/zyzx/lgzb/201605/t20160526_130038.htm', 'http://www.chinaivdc.cn/cnic/zyzx/lgzb/201605/t20160526_130037.htm', 'http://www.chinaivdc.cn/cnic/zyzx/lgzb/201605/t20160526_130036.htm', 'http://www.chinaivdc.cn/cnic/zyzx/lgzb/201605/t20160526_130035.htm', 'http://www.chinaivdc.cn/cnic/zyzx/lgzb/201605/t20160526_130033.htm', 'http://www.chinaivdc.cn/cnic/zyzx/lgzb/201605/t20160525_130005.htm', 'http://www.chinaivdc.cn/cnic/zyzx/lgzb/201605/t20160525_130004.htm', 'http://www.chinaivdc.cn/cnic/zyzx/lgzb/201605/t20160525_130003.htm', 'http://www.chinaivdc.cn/cnic/zyzx/lgzb/201605/t20160525_130002.htm', 'http://www.chinaivdc.cn/cnic/zyzx/lgzb/201605/t20160525_130001.htm', 'http://www.chinaivdc.cn/cnic/zyzx/lgzb/201605/t20160525_130000.htm', 'http://www.chinaivdc.cn/cnic/zyzx/lgzb/201605/t20160525_129999.htm', 'http://www.chinaivdc.cn/cnic/zyzx/lgzb/201605/t20160525_129998.htm', 'http://www.chinaivdc.cn/cnic/zyzx/lgzb/201605/t20160525_129997.htm', 'http://www.chinaivdc.cn/cnic/zyzx/lgzb/201605/t20160525_129996.htm', 'http://www.chinaivdc.cn/cnic/zyzx/lgzb/201605/t20160524_129983.htm', 'http://www.chinaivdc.cn/cnic/zyzx/lgzb/201605/t20160524_129982.htm', 'http://www.chinaivdc.cn/cnic/zyzx/lgzb/201605/t20160524_129981.htm', 'http://www.chinaivdc.cn/cnic/zyzx/lgzb/201605/t20160524_129980.htm', 'http://www.chinaivdc.cn/cnic/zyzx/lgzb/201605/t20160524_129979.htm', 'http://www.chinaivdc.cn/cnic/zyzx/lgzb/201605/t20160524_129977.htm', 'http://www.chinaivdc.cn/cnic/zyzx/lgzb/201605/t20160524_129975.htm', 'http://www.chinaivdc.cn/cnic/zyzx/lgzb/201605/t20160524_129972.htm', 'http://www.chinaivdc.cn/cnic/zyzx/lgzb/201605/t20160524_129970.htm', 'http://www.chinaivdc.cn/cnic/zyzx/lgzb/201605/t20160524_129968.htm', 'http://www.chinaivdc.cn/cnic/zyzx/lgzb/201605/t20160524_129959.htm', 'http://www.chinaivdc.cn/cnic/zyzx/lgzb/201605/t20160524_129955.htm', 'http://www.chinaivdc.cn/cnic/zyzx/lgzb/201605/t20160524_129953.htm', 'http://www.chinaivdc.cn/cnic/zyzx/lgzb/201605/t20160524_129952.htm', 'http://www.chinaivdc.cn/cnic/zyzx/lgzb/201605/t20160524_129951.htm', 'http://www.chinaivdc.cn/cnic/zyzx/lgzb/201605/t20160524_129950.htm', 'http://www.chinaivdc.cn/cnic/zyzx/lgzb/201605/t20160524_129949.htm', 'http://www.chinaivdc.cn/cnic/zyzx/lgzb/201605/t20160524_129948.htm', 'http://www.chinaivdc.cn/cnic/zyzx/lgzb/201605/t20160524_129947.htm', 'http://www.chinaivdc.cn/cnic/zyzx/lgzb/201605/t20160524_129946.htm', 'http://www.chinaivdc.cn/cnic/zyzx/lgzb/201605/t20160523_129923.htm', 'http://www.chinaivdc.cn/cnic/zyzx/lgzb/201605/t20160523_129922.htm', 'http://www.chinaivdc.cn/cnic/zyzx/lgzb/201605/t20160523_129921.htm', 'http://www.chinaivdc.cn/cnic/zyzx/lgzb/201605/t20160523_129919.htm', 'http://www.chinaivdc.cn/cnic/zyzx/lgzb/201605/t20160523_129918.htm', 'http://www.chinaivdc.cn/cnic/zyzx/lgzb/201605/t20160523_129916.htm', 'http://www.chinaivdc.cn/cnic/zyzx/lgzb/201605/t20160523_129915.htm', 'http://www.chinaivdc.cn/cnic/zyzx/lgzb/201605/t20160523_129913.htm', 'http://www.chinaivdc.cn/cnic/zyzx/lgzb/201605/t20160523_129912.htm', 'http://www.chinaivdc.cn/cnic/zyzx/lgzb/201605/t20160523_129911.htm', 'http://www.chinaivdc.cn/cnic/zyzx/lgzb/201605/t20160523_129907.htm', 'http://www.chinaivdc.cn/cnic/zyzx/lgzb/201605/t20160523_129908.htm', 'http://www.chinaivdc.cn/cnic/zyzx/lgzb/201605/t20160523_129906.htm', 'http://www.chinaivdc.cn/cnic/zyzx/lgzb/201605/t20160523_129905.htm', 'http://www.chinaivdc.cn/cnic/zyzx/lgzb/201605/t20160523_129904.htm', 'http://www.chinaivdc.cn/cnic/zyzx/lgzb/201605/t20160523_129902.htm', 'http://www.chinaivdc.cn/cnic/zyzx/lgzb/201605/t20160523_129900.htm', 'http://www.chinaivdc.cn/cnic/zyzx/lgzb/201605/t20160523_129899.htm', 'http://www.chinaivdc.cn/cnic/zyzx/lgzb/201605/t20160523_129895.htm', 'http://www.chinaivdc.cn/cnic/zyzx/lgzb/201605/t20160523_129894.htm', 'http://www.chinaivdc.cn/cnic/zyzx/lgzb/201605/t20160523_129893.htm', 'http://www.chinaivdc.cn/cnic/zyzx/lgzb/201605/t20160523_129892.htm', 'http://www.chinaivdc.cn/cnic/zyzx/lgzb/201605/t20160523_129891.htm', 'http://www.chinaivdc.cn/cnic/zyzx/lgzb/201605/t20160523_129890.htm', 'http://www.chinaivdc.cn/cnic/zyzx/lgzb/201605/t20160523_129887.htm', 'http://www.chinaivdc.cn/cnic/zyzx/lgzb/201605/t20160523_129885.htm', 'http://www.chinaivdc.cn/cnic/zyzx/lgzb/201605/t20160523_129884.htm', 'http://www.chinaivdc.cn/cnic/zyzx/lgzb/201605/t20160523_129881.htm', 'http://www.chinaivdc.cn/cnic/zyzx/lgzb/201605/t20160523_129880.htm', 'http://www.chinaivdc.cn/cnic/zyzx/lgzb/201605/t20160523_129875.htm', 'http://www.chinaivdc.cn/cnic/zyzx/lgzb/201605/t20160523_129909.htm', 'http://www.chinaivdc.cn/cnic/zyzx/lgzb/201605/t20160523_129873.htm', 'http://www.chinaivdc.cn/cnic/zyzx/lgzb/201605/t20160523_129870.htm', 'http://www.chinaivdc.cn/cnic/zyzx/lgzb/201605/t20160523_129869.htm', 'http://www.chinaivdc.cn/cnic/zyzx/lgzb/201605/t20160523_129867.htm', 'http://www.chinaivdc.cn/cnic/zyzx/lgzb/201605/t20160523_129865.htm', 'http://www.chinaivdc.cn/cnic/zyzx/lgzb/201605/t20160523_129866.htm'])\n"
     ]
    }
   ],
   "source": [
    "print(week_dict.values())"
   ]
  },
  {
   "cell_type": "code",
   "execution_count": 27,
   "metadata": {
    "scrolled": true
   },
   "outputs": [
    {
     "name": "stdout",
     "output_type": "stream",
     "text": [
      "http://www.chinaivdc.cn/cnic/zyzx/lgzb/201810/t20181016_195082.htm\n",
      "except: 'NoneType' object has no attribute 'group'\n",
      "http://www.chinaivdc.cn/cnic/zyzx/lgzb/201809/t20180929_194398.htm\n",
      "except: 'NoneType' object has no attribute 'group'\n",
      "http://www.chinaivdc.cn/cnic/zyzx/lgzb/201809/t20180923_194062.htm\n",
      "except: 'NoneType' object has no attribute 'group'\n",
      "http://www.chinaivdc.cn/cnic/zyzx/lgzb/201809/t20180911_193721.htm\n",
      "except: 'NoneType' object has no attribute 'group'\n",
      "http://www.chinaivdc.cn/cnic/zyzx/lgzb/201808/t20180824_189988.htm\n",
      "except: 'NoneType' object has no attribute 'group'\n",
      "http://www.chinaivdc.cn/cnic/zyzx/lgzb/201808/t20180820_189840.htm\n",
      "except: 'NoneType' object has no attribute 'group'\n",
      "http://www.chinaivdc.cn/cnic/zyzx/lgzb/201808/t20180810_189667.htm\n",
      "except: 'NoneType' object has no attribute 'group'\n",
      "http://www.chinaivdc.cn/cnic/zyzx/lgzb/201808/t20180806_189507.htm\n",
      "except: 'NoneType' object has no attribute 'group'\n",
      "http://www.chinaivdc.cn/cnic/zyzx/lgzb/201807/t20180723_189109.htm\n",
      "except: (\"Connection broken: ConnectionAbortedError(10053, '你的主机中的软件中止了一个已建立的连接。', None, 10053, None)\", ConnectionAbortedError(10053, '你的主机中的软件中止了一个已建立的连接。', None, 10053, None))\n",
      "http://www.chinaivdc.cn/cnic/zyzx/lgzb/201807/t20180717_188865.htm\n",
      "except: HTTPConnectionPool(host='www.chinaivdc.cn', port=80): Max retries exceeded with url: /cnic/zyzx/lgzb/201807/t20180717_188865.htm (Caused by NewConnectionError('<urllib3.connection.HTTPConnection object at 0x000001D3C034CF60>: Failed to establish a new connection: [Errno 11001] getaddrinfo failed',))\n",
      "http://www.chinaivdc.cn/cnic/zyzx/lgzb/201807/t20180706_183191.htm\n",
      "except: HTTPConnectionPool(host='www.chinaivdc.cn', port=80): Max retries exceeded with url: /cnic/zyzx/lgzb/201807/t20180706_183191.htm (Caused by NewConnectionError('<urllib3.connection.HTTPConnection object at 0x000001D3C034C860>: Failed to establish a new connection: [Errno 11001] getaddrinfo failed',))\n",
      "http://www.chinaivdc.cn/cnic/zyzx/lgzb/201806/t20180629_181062.htm\n",
      "except: HTTPConnectionPool(host='www.chinaivdc.cn', port=80): Max retries exceeded with url: /cnic/zyzx/lgzb/201806/t20180629_181062.htm (Caused by NewConnectionError('<urllib3.connection.HTTPConnection object at 0x000001D3C034CC88>: Failed to establish a new connection: [Errno 11001] getaddrinfo failed',))\n",
      "http://www.chinaivdc.cn/cnic/zyzx/lgzb/201806/t20180624_180912.htm\n",
      "except: HTTPConnectionPool(host='www.chinaivdc.cn', port=80): Max retries exceeded with url: /cnic/zyzx/lgzb/201806/t20180624_180912.htm (Caused by NewConnectionError('<urllib3.connection.HTTPConnection object at 0x000001D3C034CB70>: Failed to establish a new connection: [Errno 11001] getaddrinfo failed',))\n",
      "http://www.chinaivdc.cn/cnic/zyzx/lgzb/201806/t20180615_173720.htm\n",
      "except: 'NoneType' object has no attribute 'group'\n",
      "http://www.chinaivdc.cn/cnic/zyzx/lgzb/201609/t20160912_134100.htm\n",
      "except: 'NoneType' object has no attribute 'group'\n",
      "http://www.chinaivdc.cn/cnic/zyzx/lgzb/201607/t20160727_133053.htm\n",
      "except: 'NoneType' object has no attribute 'group'\n",
      "http://www.chinaivdc.cn/cnic/zyzx/lgzb/201607/t20160718_132286.htm\n",
      "except: 'NoneType' object has no attribute 'group'\n",
      "http://www.chinaivdc.cn/cnic/zyzx/lgzb/201607/t20160712_132101.htm\n",
      "except: 'NoneType' object has no attribute 'group'\n",
      "http://www.chinaivdc.cn/cnic/zyzx/lgzb/201605/t20160531_130242.htm\n",
      "except: 'NoneType' object has no attribute 'group'\n",
      "http://www.chinaivdc.cn/cnic/zyzx/lgzb/201605/t20160531_130241.htm\n",
      "except: 'NoneType' object has no attribute 'group'\n",
      "http://www.chinaivdc.cn/cnic/zyzx/lgzb/201605/t20160531_130239.htm\n",
      "except: 'NoneType' object has no attribute 'group'\n",
      "http://www.chinaivdc.cn/cnic/zyzx/lgzb/201605/t20160531_130237.htm\n",
      "except: 'NoneType' object has no attribute 'group'\n",
      "http://www.chinaivdc.cn/cnic/zyzx/lgzb/201605/t20160531_130235.htm\n",
      "except: 'NoneType' object has no attribute 'group'\n",
      "http://www.chinaivdc.cn/cnic/zyzx/lgzb/201605/t20160531_130233.htm\n",
      "except: 'NoneType' object has no attribute 'group'\n",
      "http://www.chinaivdc.cn/cnic/zyzx/lgzb/201605/t20160531_130236.htm\n",
      "except: 'NoneType' object has no attribute 'group'\n",
      "http://www.chinaivdc.cn/cnic/zyzx/lgzb/201605/t20160531_130232.htm\n",
      "except: 'NoneType' object has no attribute 'group'\n",
      "http://www.chinaivdc.cn/cnic/zyzx/lgzb/201605/t20160530_130216.htm\n",
      "except: 'NoneType' object has no attribute 'group'\n",
      "http://www.chinaivdc.cn/cnic/zyzx/lgzb/201605/t20160530_130215.htm\n",
      "except: 'NoneType' object has no attribute 'group'\n",
      "http://www.chinaivdc.cn/cnic/zyzx/lgzb/201605/t20160526_130051.htm\n",
      "except: 'NoneType' object has no attribute 'group'\n",
      "http://www.chinaivdc.cn/cnic/zyzx/lgzb/201605/t20160526_130046.htm\n",
      "except: 'NoneType' object has no attribute 'group'\n",
      "http://www.chinaivdc.cn/cnic/zyzx/lgzb/201605/t20160525_130004.htm\n",
      "except: 'NoneType' object has no attribute 'group'\n",
      "http://www.chinaivdc.cn/cnic/zyzx/lgzb/201605/t20160525_130001.htm\n",
      "except: 'NoneType' object has no attribute 'group'\n",
      "http://www.chinaivdc.cn/cnic/zyzx/lgzb/201605/t20160525_130000.htm\n",
      "except: 'NoneType' object has no attribute 'group'\n",
      "http://www.chinaivdc.cn/cnic/zyzx/lgzb/201605/t20160523_129913.htm\n",
      "except: 'NoneType' object has no attribute 'group'\n",
      "http://www.chinaivdc.cn/cnic/zyzx/lgzb/201605/t20160523_129906.htm\n",
      "except: 'NoneType' object has no attribute 'group'\n",
      "http://www.chinaivdc.cn/cnic/zyzx/lgzb/201605/t20160523_129900.htm\n",
      "except: 'NoneType' object has no attribute 'group'\n",
      "http://www.chinaivdc.cn/cnic/zyzx/lgzb/201605/t20160523_129899.htm\n",
      "except: 'NoneType' object has no attribute 'group'\n",
      "http://www.chinaivdc.cn/cnic/zyzx/lgzb/201605/t20160523_129894.htm\n",
      "except: 'NoneType' object has no attribute 'group'\n",
      "http://www.chinaivdc.cn/cnic/zyzx/lgzb/201605/t20160523_129891.htm\n",
      "except: 'NoneType' object has no attribute 'group'\n",
      "http://www.chinaivdc.cn/cnic/zyzx/lgzb/201605/t20160523_129909.htm\n",
      "except: 'NoneType' object has no attribute 'group'\n",
      "http://www.chinaivdc.cn/cnic/zyzx/lgzb/201605/t20160523_129873.htm\n",
      "except: 'NoneType' object has no attribute 'group'\n",
      "http://www.chinaivdc.cn/cnic/zyzx/lgzb/201605/t20160523_129870.htm\n",
      "except: 'NoneType' object has no attribute 'group'\n"
     ]
    }
   ],
   "source": [
    "PSRdata = []\n",
    "for k,v in week_dict.items():\n",
    "    try:\n",
    "        date = k\n",
    "        \n",
    "        res = requests.get(v)\n",
    "        res.encoding = 'utf-8'\n",
    "        reg = '<.*?>|&nbsp'\n",
    "        content = re.sub(reg, \"\", res.text)                #清理内容，去掉所有HTML标签\n",
    "        reg_float = '\\d+\\.\\d+'                             #匹配小数，/d+:任意0-多位数字；/.：匹配小数点\n",
    "        \n",
    "        #南方\n",
    "        reg_south = '(南方省份流感检测阳性率|南方省份第).*?[，]'              #a.*?b:匹配一长段字符中以a开头以b结尾的子串\n",
    "        south = re.search(reg_south,content).group()                             \n",
    "        S_PSR = re.search(reg_float, south).group()\n",
    "        s_psr = float(S_PSR)\n",
    "        \n",
    "        #北方\n",
    "        reg_north = '(北方省份流感检测阳性率|北方省份第).*?[，]'      \n",
    "        north = re.search(reg_north,content).group()                          \n",
    "        N_PSR = re.search(reg_float, north).group()\n",
    "        n_psr = float(N_PSR)\n",
    "        \n",
    "        #主要问题：当数字为0时，语句表述为\"北方省份未检测到流感病毒\"，即无法获取数字。\n",
    "        #教训：try excepte语句分小块写，详细到具体的部分\n",
    "        \n",
    "        PSRdata.append([date, s_psr, n_psr])\n",
    "     \n",
    "    except Exception as e:\n",
    "        print(v)\n",
    "        print('except:', e)\n",
    "    \n",
    "    time.sleep(1)"
   ]
  },
  {
   "cell_type": "code",
   "execution_count": 30,
   "metadata": {},
   "outputs": [],
   "source": [
    "PSRdata_df = pd.DataFrame(PSRdata, columns = [\"time\",\"south_PSR\",\"north_PSR\"])\n",
    "writer = pd.ExcelWriter(\"C:\\\\D\\\\HUST\\\\毕业设计\\\\infectious disease data\\\\flu positive specimens rate\\\\flu positive specimens rate.xlsx\")\n",
    "PSRdata_df.to_excel(writer,\"sheet1\",index = False)\n",
    "writer.save()"
   ]
  }
 ],
 "metadata": {
  "kernelspec": {
   "display_name": "Python 3",
   "language": "python",
   "name": "python3"
  },
  "language_info": {
   "codemirror_mode": {
    "name": "ipython",
    "version": 3
   },
   "file_extension": ".py",
   "mimetype": "text/x-python",
   "name": "python",
   "nbconvert_exporter": "python",
   "pygments_lexer": "ipython3",
   "version": "3.7.1"
  }
 },
 "nbformat": 4,
 "nbformat_minor": 2
}
